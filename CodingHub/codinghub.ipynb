{
 "cells": [
  {
   "cell_type": "markdown",
   "metadata": {},
   "source": [
    "BASIC PYTHON PROGRAMS"
   ]
  },
  {
   "cell_type": "code",
   "execution_count": 3,
   "metadata": {},
   "outputs": [
    {
     "name": "stdout",
     "output_type": "stream",
     "text": [
      "The sum of two numbers is : 15.0\n"
     ]
    }
   ],
   "source": [
    "#PYTHON PROGRAM TO ADD TWO NUMBERS\n",
    "def add(a,b):\n",
    "    return a+b\n",
    "\n",
    "num1=float(input(\"Enter the first number:\"))\n",
    "num2=float(input(\"Enter the second number:\"))\n",
    "print(\"The sum of two numbers is :\",add(num1,num2))"
   ]
  },
  {
   "cell_type": "code",
   "execution_count": 5,
   "metadata": {},
   "outputs": [
    {
     "name": "stdout",
     "output_type": "stream",
     "text": [
      "The maximum of two numbers is : 9.5\n"
     ]
    }
   ],
   "source": [
    "#PYTHON PROGRAM TO FIND MAXIMUM OF TWO NUMBERS IN PYTHON\n",
    "def max_num(a,b):\n",
    "    if a>b:\n",
    "        return a\n",
    "    else:\n",
    "        return b\n",
    "\n",
    "num1=float(input(\"Enter the first number:\"))\n",
    "num2=float(input(\"Enter the second number:\"))\n",
    "print(\"The maximum of two numbers is :\",max_num(num1,num2))"
   ]
  },
  {
   "cell_type": "code",
   "execution_count": 7,
   "metadata": {},
   "outputs": [
    {
     "name": "stdout",
     "output_type": "stream",
     "text": [
      "The value of the factorial of the given number is : 720\n"
     ]
    }
   ],
   "source": [
    "#PYTHON PROGRAM FOR FACTORIAL OF A NUMBER\n",
    "def factorial(a):\n",
    "    facto=1\n",
    "    for i in range(1,a+1):\n",
    "        facto = facto * i\n",
    "    return facto\n",
    "\n",
    "num1=int(input(\"Enter the value of a for which we have to find the factorial:\"))\n",
    "print(\"The value of the factorial of the given number is :\",factorial(num1))"
   ]
  },
  {
   "cell_type": "code",
   "execution_count": 8,
   "metadata": {},
   "outputs": [
    {
     "name": "stdout",
     "output_type": "stream",
     "text": [
      "The value of the Simple Interest is : 48600.0\n"
     ]
    }
   ],
   "source": [
    "#PYTHON PROGRAM FOR SIMPLE INTEREST\n",
    "def simple_interest(p,r,t):\n",
    "    return (p * r * t)/100\n",
    "\n",
    "principal=float(input(\"Enter the value of Principal:\"))\n",
    "rate=float(input(\"Enter the value of rate:\"))\n",
    "time=int(input(\"Enter the time for which you want to calculate Simple Interest:\"))\n",
    "print(\"The value of the Simple Interest is :\", simple_interest(principal,rate,time))"
   ]
  },
  {
   "cell_type": "code",
   "execution_count": null,
   "metadata": {},
   "outputs": [],
   "source": []
  }
 ],
 "metadata": {
  "kernelspec": {
   "display_name": "Python 3",
   "language": "python",
   "name": "python3"
  },
  "language_info": {
   "codemirror_mode": {
    "name": "ipython",
    "version": 3
   },
   "file_extension": ".py",
   "mimetype": "text/x-python",
   "name": "python",
   "nbconvert_exporter": "python",
   "pygments_lexer": "ipython3",
   "version": "3.12.4"
  }
 },
 "nbformat": 4,
 "nbformat_minor": 2
}
