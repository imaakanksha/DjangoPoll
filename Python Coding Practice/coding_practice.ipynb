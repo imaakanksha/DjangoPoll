{
 "cells": [
  {
   "cell_type": "markdown",
   "metadata": {},
   "source": [
    "PALINDROME NUMBER\n",
    "\n",
    "PALINDROME QUESTIONS FOR THE STRING"
   ]
  },
  {
   "cell_type": "markdown",
   "metadata": {},
   "source": [
    "BY USING THE SPLIT METHOD"
   ]
  },
  {
   "cell_type": "code",
   "execution_count": 8,
   "metadata": {},
   "outputs": [
    {
     "name": "stdout",
     "output_type": "stream",
     "text": [
      "Yes,The given string 'anitina' is Palindrome\n"
     ]
    }
   ],
   "source": [
    "s = input(\"Enter the value of the string for checking Palindrome:\")\n",
    "s = s.lower()\n",
    "temp=s[::-1]\n",
    "if s == temp:\n",
    "    print(f\"Yes,The given string '{s}' is Palindrome\".format(s))\n",
    "else:\n",
    "    print(f\"No! The given string '{s}' is not Palindrome.\".format(s))"
   ]
  },
  {
   "cell_type": "markdown",
   "metadata": {},
   "source": [
    "PALINDROME QUESTIONS FOR THE STRING USING THE INDEXING METHOD/ FOR LOOP MENTHOD\n",
    "BY USING THE INDEXING METHOD / FOR LOOP METHOD"
   ]
  },
  {
   "cell_type": "code",
   "execution_count": 29,
   "metadata": {},
   "outputs": [
    {
     "name": "stdout",
     "output_type": "stream",
     "text": [
      "Yes, The given sring 'nitin' is Palindrome.\n"
     ]
    }
   ],
   "source": [
    "s = input(\"Enter the value of the string to check for the Palindrome: \")\n",
    "s=s.lower()\n",
    "x=True\n",
    "for i in range(len(s)//2):\n",
    "    if s[i] != s[-i-1]:\n",
    "        x=False\n",
    "        print(f\"No, The given string '{s}' is not Palindrome.\".format(s))\n",
    "        break\n",
    "\n",
    "if x:\n",
    "   print(f\"Yes, The given sring '{s}' is Palindrome.\".format(s))"
   ]
  },
  {
   "cell_type": "markdown",
   "metadata": {},
   "source": [
    "PALINDROME QUESTIONS FOR THE STRING USING FUNCTION"
   ]
  },
  {
   "cell_type": "code",
   "execution_count": 33,
   "metadata": {},
   "outputs": [
    {
     "name": "stdout",
     "output_type": "stream",
     "text": [
      "False\n"
     ]
    }
   ],
   "source": [
    "def isPalindrome(s):\n",
    "    for i in range(len(s)):\n",
    "        if s[i] != s[len(s)-i-1]:\n",
    "           return False\n",
    "    return True\n",
    "\n",
    "s='rammr'\n",
    "print(isPalindrome(s))"
   ]
  },
  {
   "cell_type": "code",
   "execution_count": 35,
   "metadata": {},
   "outputs": [
    {
     "name": "stdout",
     "output_type": "stream",
     "text": [
      "False\n"
     ]
    }
   ],
   "source": [
    "def Palindrome(s):\n",
    "    if s == s[::-1]:\n",
    "        return True\n",
    "    return False\n",
    "\n",
    "s='nitian'\n",
    "print(Palindrome(s))"
   ]
  },
  {
   "cell_type": "markdown",
   "metadata": {},
   "source": [
    "PALINDROME NUMBER\n",
    "\n",
    "TO CHECK PALINDROME IN CASE OF NUMBERS"
   ]
  },
  {
   "cell_type": "code",
   "execution_count": 44,
   "metadata": {},
   "outputs": [
    {
     "name": "stdout",
     "output_type": "stream",
     "text": [
      "False\n"
     ]
    }
   ],
   "source": [
    "def numPalindrome(num):\n",
    "    temp = num\n",
    "    rev_n = 0\n",
    "    while (temp>0):\n",
    "        digit = temp % 10\n",
    "        rev_n = rev_n * 10 + digit\n",
    "        temp = temp // 10\n",
    "    if num == rev_n:\n",
    "        return True\n",
    "    return False\n",
    "    \n",
    "num=1234567\n",
    "\n",
    "print(numPalindrome(num))"
   ]
  },
  {
   "cell_type": "markdown",
   "metadata": {},
   "source": [
    "FIBONACCI SERIES\n",
    "\n",
    "Find the Fibonacci Series from 0 to nth number\n",
    "\n",
    "0,1,1,2,3,5,8,13,21............................\n"
   ]
  },
  {
   "cell_type": "markdown",
   "metadata": {},
   "source": [
    "USING WHILE LOOP"
   ]
  },
  {
   "cell_type": "code",
   "execution_count": 53,
   "metadata": {},
   "outputs": [
    {
     "name": "stdout",
     "output_type": "stream",
     "text": [
      "0\n",
      "1\n",
      "1\n",
      "2\n",
      "3\n",
      "5\n",
      "8\n",
      "13\n",
      "21\n",
      "None\n"
     ]
    }
   ],
   "source": [
    "def fibonacci(n):\n",
    "    a,b=0,1\n",
    "    if a <= 1:\n",
    "        print(a)\n",
    "    while(b<n):\n",
    "        print(b)\n",
    "        c = a+b\n",
    "        a = b\n",
    "        b = c\n",
    "n=int(input(\"Enter the value of number upto which you want fibonacci Series:\"))\n",
    "print(fibonacci(n))"
   ]
  },
  {
   "cell_type": "markdown",
   "metadata": {},
   "source": [
    "FIBONACCI SERIES WITHOUT USING 3RD VARIABLE"
   ]
  },
  {
   "cell_type": "code",
   "execution_count": 60,
   "metadata": {},
   "outputs": [
    {
     "name": "stdout",
     "output_type": "stream",
     "text": [
      "0\n",
      "1\n",
      "1\n",
      "2\n",
      "3\n",
      "5\n",
      "8\n",
      "13\n",
      "21\n",
      "34\n",
      "None\n"
     ]
    }
   ],
   "source": [
    "def fibonacci(n):\n",
    "    a,b=0,1\n",
    "    if a<=1:\n",
    "        print(a)\n",
    "    while(b<n):        \n",
    "        print(b)\n",
    "        a,b=b,a+b\n",
    "\n",
    "n = int(input(\"Enter the value of the number upto which you want the fibonacci series:\"))\n",
    "print(fibonacci(n))"
   ]
  },
  {
   "cell_type": "markdown",
   "metadata": {},
   "source": [
    "FIBONACCI SERIES USING THE FOR LOOP"
   ]
  },
  {
   "cell_type": "code",
   "execution_count": 64,
   "metadata": {},
   "outputs": [
    {
     "name": "stdout",
     "output_type": "stream",
     "text": [
      "0\n",
      "1\n",
      "1\n",
      "2\n",
      "3\n",
      "5\n",
      "8\n",
      "13\n",
      "21\n",
      "34\n",
      "55\n",
      "89\n",
      "144\n",
      "233\n"
     ]
    }
   ],
   "source": [
    "def fibonacci(n):\n",
    "    a,b=0,1\n",
    "    if a <= 1:\n",
    "        print(a)\n",
    "    for i in range(2,n):\n",
    "        #print(a)\n",
    "        print(b)\n",
    "        c = a+b\n",
    "        a = b\n",
    "        b = c\n",
    "\n",
    "n = int(input(\"Ente the value of n upto which you want the Fibonacci Series: \"))\n",
    "fibonacci(n)"
   ]
  },
  {
   "cell_type": "markdown",
   "metadata": {},
   "source": [
    "FIBONACCI SERIES USING RECURSION"
   ]
  },
  {
   "cell_type": "code",
   "execution_count": 83,
   "metadata": {},
   "outputs": [
    {
     "name": "stdout",
     "output_type": "stream",
     "text": [
      "0\n",
      "1\n",
      "1\n",
      "2\n",
      "3\n",
      "5\n",
      "8\n",
      "13\n",
      "21\n",
      "34\n",
      "55\n",
      "89\n",
      "144\n",
      "233\n",
      "377\n",
      "610\n"
     ]
    }
   ],
   "source": [
    "def recrfibo(n):\n",
    "    if n <= 1:\n",
    "        return n\n",
    "    else:\n",
    "        return (recrfibo(n-1) + recrfibo(n-2))\n",
    "n=int(input(\"Enter the value of n upto which you want to get the Fibonacci Series: \"))\n",
    "for i in range(n):\n",
    "      print(recrfibo(i))\n",
    "print(recrfibo(n))"
   ]
  },
  {
   "cell_type": "markdown",
   "metadata": {},
   "source": [
    "FIBONACCI SERIES WITH RECURSION AND WITHOUT FOR LOOP"
   ]
  },
  {
   "cell_type": "code",
   "execution_count": 84,
   "metadata": {},
   "outputs": [
    {
     "name": "stdout",
     "output_type": "stream",
     "text": [
      "0 1 1 2 3 5 8 13 21 34 55 89 144 233 377 "
     ]
    }
   ],
   "source": [
    "def recrfibo(n):\n",
    "    if n <= 1:\n",
    "        return n\n",
    "    else:\n",
    "        return (recrfibo(n-1) + recrfibo(n-2))\n",
    "\n",
    "def print_fibonacci_series(i, n):\n",
    "    if i >= n:\n",
    "        return\n",
    "    print(recrfibo(i), end=\" \")\n",
    "    print_fibonacci_series(i + 1, n)\n",
    "\n",
    "n = int(input(\"Enter the value of n up to which you want to get the Fibonacci Series: \"))\n",
    "print_fibonacci_series(0, n)\n"
   ]
  },
  {
   "cell_type": "markdown",
   "metadata": {},
   "source": [
    "FIBONACCI SERIES USING RECURSION IN ONE FUNCTION"
   ]
  },
  {
   "cell_type": "code",
   "execution_count": 87,
   "metadata": {},
   "outputs": [
    {
     "name": "stdout",
     "output_type": "stream",
     "text": [
      "0 1 1 2 3 5 8 13 21 34 "
     ]
    }
   ],
   "source": [
    "def recrfibo(n, a=0, b=1, i=0):\n",
    "    if i >= n:\n",
    "        return\n",
    "    print(a, end=\" \")\n",
    "    recrfibo(n, b, a + b, i + 1)\n",
    "\n",
    "n = int(input(\"Enter the value of n up to which you want to get the Fibonacci Series: \"))\n",
    "recrfibo(n)\n",
    "\n"
   ]
  },
  {
   "cell_type": "markdown",
   "metadata": {},
   "source": [
    "PRIME NUMBER : TO CHECK IF THE GIVEN NUMBER IS PRIME OR NOT?"
   ]
  },
  {
   "cell_type": "code",
   "execution_count": 115,
   "metadata": {},
   "outputs": [
    {
     "name": "stdout",
     "output_type": "stream",
     "text": [
      "True\n"
     ]
    }
   ],
   "source": [
    "def isPrime(n):\n",
    "    if n < 2:\n",
    "        print(\"Please enter the valid number for checking the prime number.\")\n",
    "    else:\n",
    "     for i in range(2,int(n**0.5)+2):\n",
    "         if n % i != 0:\n",
    "            return True\n",
    "         return False\n",
    "n = int(input(\"Enter the value of n for which we have to check if it is a prime number or not?\"))\n",
    "print(isPrime(n))"
   ]
  },
  {
   "cell_type": "code",
   "execution_count": null,
   "metadata": {},
   "outputs": [
    {
     "name": "stdout",
     "output_type": "stream",
     "text": [
      "True\n"
     ]
    }
   ],
   "source": [
    "def isPrime(n):\n",
    "    if n < 2:\n",
    "        return False\n",
    "    elif n==2 :\n",
    "        return True\n",
    "    for i in range(2, int(n**0.5)+2):\n",
    "        if n % i != 0:\n",
    "            return True\n",
    "    return False\n",
    "n = int(input(\"Enter the value of n for which we have to check if it is a prime number or not?\"))\n",
    "print(isPrime(n))"
   ]
  },
  {
   "cell_type": "markdown",
   "metadata": {},
   "source": [
    "Optimized by Checking Up to Square Root"
   ]
  },
  {
   "cell_type": "code",
   "execution_count": 119,
   "metadata": {},
   "outputs": [
    {
     "name": "stdout",
     "output_type": "stream",
     "text": [
      "False\n"
     ]
    }
   ],
   "source": [
    "import math\n",
    "\n",
    "def is_prime_sqrt(n):\n",
    "    if n <= 1:\n",
    "        return False\n",
    "    if n <= 3:\n",
    "        return True\n",
    "    if n % 2 == 0 or n % 3 == 0:\n",
    "        return False\n",
    "    i = 5\n",
    "    while i * i <= n:\n",
    "        if n % i == 0 or n % (i + 2) == 0:\n",
    "            return False\n",
    "        i += 6\n",
    "    return True\n",
    "\n",
    "n = int(input(\"Enter the value of n to check for the prime: \"))\n",
    "print(is_prime_sqrt(n))"
   ]
  },
  {
   "cell_type": "markdown",
   "metadata": {},
   "source": [
    "PRIME NUMBER: TO COUNT TOTAL NUMBER OF PRIME NUMBERS TILL THE GIVEN NUMBER"
   ]
  },
  {
   "cell_type": "code",
   "execution_count": 128,
   "metadata": {},
   "outputs": [
    {
     "name": "stdout",
     "output_type": "stream",
     "text": [
      "2\n",
      "3\n",
      "5\n",
      "7\n",
      "11\n",
      "13\n",
      "17\n",
      "19\n",
      "23\n",
      "29\n",
      "31\n",
      "37\n",
      "41\n",
      "43\n",
      "47\n",
      "The total number of prime number is :  15\n"
     ]
    }
   ],
   "source": [
    "def count_prime(n):\n",
    "    count = 0\n",
    "    for i in range(2,n):\n",
    "        flag = True\n",
    "        for j in range(2,i//2+1):\n",
    "            if (i%j == 0):\n",
    "                flag = False\n",
    "        if flag:\n",
    "            count+=1\n",
    "            print(i)\n",
    "    return(count)\n",
    "\n",
    "n=int(input(\"Enter the value of n upto which you want to count\"))\n",
    "print(\"The total number of prime number is : \", count_prime(n))\n"
   ]
  },
  {
   "cell_type": "markdown",
   "metadata": {},
   "source": [
    "COMPRESS STRING CODING\n",
    "\n",
    "PYTHON CODE TO COMPRESS THE STRING AND GENERATE THE OUTPUT STRING FROM THE INPUT STRING \n",
    "\n",
    "INPUT: aaabbhhhddjjeee\n",
    "\n",
    "OUTPUT:a3b2h3d2j2e3"
   ]
  },
  {
   "cell_type": "code",
   "execution_count": 132,
   "metadata": {},
   "outputs": [
    {
     "name": "stdout",
     "output_type": "stream",
     "text": [
      "a3b2h3d2j2e2\n"
     ]
    }
   ],
   "source": [
    "def compress(s):\n",
    "    n=len(s)\n",
    "    count=1\n",
    "    new_s=''\n",
    "    for i in range(n-1):\n",
    "        if s[i] == s[i+1]:\n",
    "            count +=1\n",
    "        else:\n",
    "            new_s += s[i] + str(count)\n",
    "            count = 1\n",
    "    new_s += s[i] + str(count)\n",
    "    return(new_s)\n",
    "s='aaabbhhhddjjee'\n",
    "print(compress(s))"
   ]
  },
  {
   "cell_type": "markdown",
   "metadata": {},
   "source": [
    "FIZZBUZZ PROBLEM\n",
    "\n",
    "IF NUMBER IS DIVISIBLE BY 3 PRINT Fizz\n",
    "\n",
    "IF NUMBER IS DIVISIBLE BY 5 PRINT Buzz\n",
    "\n",
    "IF NUMBER IS DIVISIBLE BY 15 PRINT FizzBuzz"
   ]
  },
  {
   "cell_type": "code",
   "execution_count": 135,
   "metadata": {},
   "outputs": [
    {
     "name": "stdout",
     "output_type": "stream",
     "text": [
      "1\n",
      "2\n",
      "Fizz\n",
      "4\n",
      "Buzz\n",
      "Fizz\n",
      "7\n",
      "8\n",
      "Fizz\n",
      "Buzz\n",
      "11\n",
      "Fizz\n",
      "13\n",
      "14\n",
      "FizzBuzz\n",
      "16\n",
      "17\n",
      "Fizz\n",
      "19\n",
      "Buzz\n",
      "Fizz\n",
      "22\n",
      "23\n",
      "Fizz\n",
      "Buzz\n",
      "26\n",
      "Fizz\n",
      "28\n",
      "29\n",
      "FizzBuzz\n"
     ]
    }
   ],
   "source": [
    "def fizzbuzz(n):\n",
    "    for i in range(1,n+1):\n",
    "        if i % 3 ==0 and i % 5 == 0:\n",
    "            print('FizzBuzz')\n",
    "        elif i % 3 == 0:\n",
    "            print('Fizz')\n",
    "        elif i % 5 ==0 :\n",
    "            print('Buzz')\n",
    "        else:\n",
    "            print(i)\n",
    "\n",
    "fizzbuzz(30)"
   ]
  },
  {
   "cell_type": "markdown",
   "metadata": {},
   "source": [
    "SORT THE GIVEN LIST AND KEEP THE REPEATED VALUES OF THE LIST AS WELL"
   ]
  },
  {
   "cell_type": "code",
   "execution_count": 139,
   "metadata": {},
   "outputs": [
    {
     "name": "stdout",
     "output_type": "stream",
     "text": [
      "[11, 11, 12, 12, 22, 22, 22, 23, 23, 33, 33, 33, 34, 44, 44, 62, 63, 86, 88, 90, 93, 233, 322, 645, 656]\n"
     ]
    }
   ],
   "source": [
    "lst = [93,12,63,23,656,645,322,90,34,11,23,62,12,86,33,233,22,11,22,88,33,44,22,33,44]\n",
    "for i in range(len(lst)):\n",
    "    for j in range(i+1,len(lst)):\n",
    "        if lst[i] > lst[j]:\n",
    "            lst[i],lst[j] = lst[j],lst[i]\n",
    "print(lst)"
   ]
  },
  {
   "cell_type": "markdown",
   "metadata": {},
   "source": [
    "SORT THE GIVEN LIST AND KEEP ONLY THE UNIQUE VALUES"
   ]
  },
  {
   "cell_type": "code",
   "execution_count": 148,
   "metadata": {},
   "outputs": [
    {
     "name": "stdout",
     "output_type": "stream",
     "text": [
      "[11, 12, 22, 23, 33, 34, 44, 62, 63, 86, 88, 90, 93, 233, 322, 645, 656]\n"
     ]
    }
   ],
   "source": [
    "lst = [93,12,63,23,656,645,322,90,34,11,23,62,12,86,33,233,22,11,22,88,33,44,22,33,44]\n",
    "lst1=[]\n",
    "for i in lst:\n",
    "    if i not in lst1:\n",
    "        lst1.append(i)\n",
    "#print(lst1)\n",
    "\n",
    "for j in range(len(lst1)):\n",
    "    for k in range(j+1,len(lst1)):\n",
    "        if lst1[j] > lst1[k]:\n",
    "            lst1[j],lst1[k]=lst1[k],lst1[j]\n",
    "print(lst1)"
   ]
  },
  {
   "cell_type": "markdown",
   "metadata": {},
   "source": [
    "TO FIND THE LARGEST AND SMALLEST ELEMENTS IN THE LIST"
   ]
  },
  {
   "cell_type": "code",
   "execution_count": 150,
   "metadata": {},
   "outputs": [
    {
     "name": "stdout",
     "output_type": "stream",
     "text": [
      "The largest number of the list is : 656\n",
      "The smallest number of the list is :  11\n"
     ]
    }
   ],
   "source": [
    "lst = [93,12,63,23,656,645,322,90,34,11,23,62,12,86,33,233,22,11,22,88,33,44,22,33,44]\n",
    "minimum = lst[0]\n",
    "maximum = lst[0]\n",
    "for i in lst:\n",
    "    if i > maximum:\n",
    "        maximum = i\n",
    "    elif i < minimum:\n",
    "        minimum = i\n",
    "print(\"The largest number of the list is :\", maximum)\n",
    "print(\"The smallest number of the list is : \", minimum)"
   ]
  },
  {
   "cell_type": "markdown",
   "metadata": {},
   "source": [
    "TO FIND THE SECOND LARGEST NUMBER IN THE LIST"
   ]
  },
  {
   "cell_type": "code",
   "execution_count": 153,
   "metadata": {},
   "outputs": [
    {
     "name": "stdout",
     "output_type": "stream",
     "text": [
      "The Second Largest Number of the list is: 543\n"
     ]
    }
   ],
   "source": [
    "def second_largest(lst):\n",
    "    \n",
    "        if lst[0] > lst[1]:\n",
    "            first = lst[0]\n",
    "            second = lst[1]\n",
    "        else:\n",
    "            first = lst[1]\n",
    "            second = lst[0]\n",
    "        for i in range(2,len(lst)):\n",
    "             if lst[i] > first:\n",
    "                  second = first\n",
    "                  first = lst[i]\n",
    "             elif lst[i] > second and lst[i] != first:\n",
    "                  second = lst[i]\n",
    "        return second\n",
    "\n",
    "lst=[9,1,3,1,2,3,4,23,22,465,22,33,45,323,55,6,3,3,6,7,8,654,432,456,543]\n",
    "print(\"The Second Largest Number of the list is:\",second_largest(lst))"
   ]
  },
  {
   "cell_type": "markdown",
   "metadata": {},
   "source": [
    "CHARACTER OCCURANCE (BELOW ARE 3 TYPES OF PROBLEMS)\n",
    "\n",
    "1.LEAST REPEATING CHARACTER IN A STRING\n",
    "\n",
    "2.COUNT OF ANY PARTICULAR ELEMENT\n",
    "\n",
    "3.COUNT OF ALL THE ELEMENTS OF THE LIST"
   ]
  },
  {
   "cell_type": "code",
   "execution_count": 155,
   "metadata": {},
   "outputs": [
    {
     "name": "stdout",
     "output_type": "stream",
     "text": [
      "{'r': 5, 'e': 6, 'f': 3, 'v': 1, 's': 1, 'g': 3, 'h': 1, 't': 1, 'k': 3}\n",
      "None\n"
     ]
    }
   ],
   "source": [
    "# COUNT OF ALL THE ELEMENTS OF THE LIST\n",
    "def count_char(s):\n",
    "    ch = {}\n",
    "    for i in s:\n",
    "        if i in ch:\n",
    "            ch[i] += 1\n",
    "        else:\n",
    "            ch[i]=1\n",
    "\n",
    "    print(ch)\n",
    "s='rrereereffvsfgghertgekkk'\n",
    "print(count_char(s))"
   ]
  },
  {
   "cell_type": "code",
   "execution_count": 158,
   "metadata": {},
   "outputs": [
    {
     "name": "stdout",
     "output_type": "stream",
     "text": [
      "{'r': 9, 'w': 1, 'e': 2, 'f': 4, 's': 2, 'd': 2, 'j': 4, 'p': 2, 'o': 1, 'i': 3, 'k': 1, 'l': 1}\n",
      "The value of the least repeating character is: w\n",
      "None\n"
     ]
    }
   ],
   "source": [
    "#TO PRINT LEAST REPEATING CHARACTER IN THE STRING\n",
    "def count_least_char(s):\n",
    "    ch={}\n",
    "    for i in s:\n",
    "        if i in ch:\n",
    "            ch[i] = ch[i]+1\n",
    "        else:\n",
    "            ch[i]=1\n",
    "    print(ch)\n",
    "    result=min(ch, key = ch.get)\n",
    "    print(\"The value of the least repeating character is:\", result)\n",
    "\n",
    "s ='rwerrrrrrrfsdfjpoipfjskdjfljieir'\n",
    "print(count_least_char(s))   "
   ]
  },
  {
   "cell_type": "code",
   "execution_count": 2,
   "metadata": {},
   "outputs": [
    {
     "name": "stdout",
     "output_type": "stream",
     "text": [
      "8\n"
     ]
    }
   ],
   "source": [
    "#COUNT THE VALUE OF ANY PARTICULAR ELEMENT\n",
    "def count_char(s, search_ch):\n",
    "    ch={}\n",
    "    for i in s:\n",
    "        if i in ch:\n",
    "            ch[i] += 1\n",
    "        else:\n",
    "            ch[i] = 1\n",
    "    print(ch[search_ch])\n",
    "\n",
    "s = 'jfwaeiriiiiiiifdfererf'\n",
    "count_char(s, 'i')"
   ]
  },
  {
   "cell_type": "code",
   "execution_count": 6,
   "metadata": {},
   "outputs": [
    {
     "name": "stdout",
     "output_type": "stream",
     "text": [
      "{'r': 1, 'e': 1, 'g': 5, 'f': 3, 's': 1, 'v': 1, 'h': 13, 't': 2, 'y': 3, 'u': 2, 'j': 2}\n",
      "The character which is coming multiple times in the string is : h\n"
     ]
    }
   ],
   "source": [
    "#TO PRINT MOST REPEATING CHARACTER IN THE STRING\n",
    "def cout_max_char(s):\n",
    "    ch = {}\n",
    "    for i in s:\n",
    "        if i in ch:\n",
    "            ch[i] = ch[i]+1\n",
    "        else:\n",
    "            ch[i] = 1\n",
    "    print(ch)\n",
    "    result = max(ch, key = ch.get)\n",
    "    return result\n",
    "\n",
    "s = 'reggfsfvghhhhhhhhhhgfhtyutyjgyuhjh'\n",
    "print(\"The character which is coming multiple times in the string is :\",cout_max_char(s))"
   ]
  }
 ],
 "metadata": {
  "kernelspec": {
   "display_name": "Python 3",
   "language": "python",
   "name": "python3"
  },
  "language_info": {
   "codemirror_mode": {
    "name": "ipython",
    "version": 3
   },
   "file_extension": ".py",
   "mimetype": "text/x-python",
   "name": "python",
   "nbconvert_exporter": "python",
   "pygments_lexer": "ipython3",
   "version": "3.12.4"
  }
 },
 "nbformat": 4,
 "nbformat_minor": 2
}
