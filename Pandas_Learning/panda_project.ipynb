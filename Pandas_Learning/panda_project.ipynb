{
 "cells": [
  {
   "cell_type": "code",
   "execution_count": 5,
   "metadata": {},
   "outputs": [
    {
     "name": "stdout",
     "output_type": "stream",
     "text": [
      "0     1.0\n",
      "1     2.0\n",
      "2     3.0\n",
      "3     4.0\n",
      "4     5.0\n",
      "5     6.0\n",
      "6     NaN\n",
      "7     9.0\n",
      "8     8.0\n",
      "9    10.0\n",
      "dtype: float64\n"
     ]
    }
   ],
   "source": [
    "# Pandas is used for the data manipulation, analysis and cleaning.\n",
    "#DataFrames: A DataFrame is a Two-Dimensional, size-mutable, potentially heterogeneous tabular data.\n",
    "import pandas as pd\n",
    "import numpy as np\n",
    "#To Create Series in Python using Pandas\n",
    "s = pd.Series([1,2,3,4,5,6,np.nan,9,8,10])\n",
    "print(s)\n"
   ]
  },
  {
   "cell_type": "code",
   "execution_count": 13,
   "metadata": {},
   "outputs": [
    {
     "name": "stdout",
     "output_type": "stream",
     "text": [
      "DatetimeIndex(['2020-03-01', '2020-03-02', '2020-03-03', '2020-03-04',\n",
      "               '2020-03-05', '2020-03-06', '2020-03-07', '2020-03-08',\n",
      "               '2020-03-09', '2020-03-10'],\n",
      "              dtype='datetime64[ns]', freq='D')\n"
     ]
    }
   ],
   "source": [
    "#To chreate dataframe by passing NumPy Array with datetime index and labeled column\n",
    "import pandas as pd\n",
    "import numpy as np\n",
    "d=pd.date_range('20200301', periods=10)\n",
    "print(d)"
   ]
  },
  {
   "cell_type": "code",
   "execution_count": 14,
   "metadata": {},
   "outputs": [
    {
     "name": "stdout",
     "output_type": "stream",
     "text": [
      "                   A         B         C         D\n",
      "2020-03-01  1.106088 -1.521726 -1.611464 -1.374270\n",
      "2020-03-02 -0.839871  1.108191 -0.481480 -0.441423\n",
      "2020-03-03  0.188043  0.197939 -0.378154  0.488642\n",
      "2020-03-04 -1.321588  0.193217  0.824925  0.288504\n",
      "2020-03-05  0.414479  0.662417 -1.275824  0.579517\n",
      "2020-03-06 -0.340765  0.651096 -0.085791  1.786402\n",
      "2020-03-07 -0.315872  0.396098 -1.655936  0.408546\n",
      "2020-03-08  0.211416  0.553659 -0.208076  1.509373\n",
      "2020-03-09 -0.859433  0.028453 -0.851388 -2.201809\n",
      "2020-03-10  1.019505 -0.869418 -0.299734 -0.970883\n"
     ]
    }
   ],
   "source": [
    "#To create a DataFrame by passing a NumPy Array with datetime index and labelled columns i.e. A,B,C,D\n",
    "import pandas as pd\n",
    "import numpy as np\n",
    "df=pd.DataFrame(np.random.randn(10,4), index=d,columns=['A','B','C','D'])\n",
    "print(df)"
   ]
  },
  {
   "cell_type": "code",
   "execution_count": 15,
   "metadata": {},
   "outputs": [
    {
     "name": "stdout",
     "output_type": "stream",
     "text": [
      "                   A         B         C         D\n",
      "2020-03-01  1.106088 -1.521726 -1.611464 -1.374270\n",
      "2020-03-02 -0.839871  1.108191 -0.481480 -0.441423\n",
      "2020-03-03  0.188043  0.197939 -0.378154  0.488642\n",
      "2020-03-04 -1.321588  0.193217  0.824925  0.288504\n",
      "2020-03-05  0.414479  0.662417 -1.275824  0.579517\n",
      "2020-03-06 -0.340765  0.651096 -0.085791  1.786402\n",
      "2020-03-07 -0.315872  0.396098 -1.655936  0.408546\n",
      "2020-03-08  0.211416  0.553659 -0.208076  1.509373\n",
      "2020-03-09 -0.859433  0.028453 -0.851388 -2.201809\n",
      "2020-03-10  1.019505 -0.869418 -0.299734 -0.970883\n"
     ]
    }
   ],
   "source": [
    "#To create DataFrame by passing the dictionary of objects\n",
    "import pandas as pd\n",
    "import numpy as np\n",
    "df1=pd.DataFrame({'A':[1,2,3,4],\n",
    "                 'B':pd.Timestamp('19980622'),\n",
    "                 'C':pd.Series(1, index=list(range(4)), dtype='float32'),\n",
    "                 'D':np.array([5]*4, dtype='int32'),\n",
    "                 'E':pd.Categorical(['true','False','True','False']),\n",
    "                 'F':'Akanksha'})\n",
    "print(df)"
   ]
  },
  {
   "cell_type": "code",
   "execution_count": 16,
   "metadata": {},
   "outputs": [
    {
     "name": "stdout",
     "output_type": "stream",
     "text": [
      "A    float64\n",
      "B    float64\n",
      "C    float64\n",
      "D    float64\n",
      "dtype: object\n"
     ]
    }
   ],
   "source": [
    "import pandas as pd\n",
    "import numpy as np\n",
    "print(df.dtypes)"
   ]
  },
  {
   "cell_type": "code",
   "execution_count": 17,
   "metadata": {},
   "outputs": [
    {
     "data": {
      "text/html": [
       "<div>\n",
       "<style scoped>\n",
       "    .dataframe tbody tr th:only-of-type {\n",
       "        vertical-align: middle;\n",
       "    }\n",
       "\n",
       "    .dataframe tbody tr th {\n",
       "        vertical-align: top;\n",
       "    }\n",
       "\n",
       "    .dataframe thead th {\n",
       "        text-align: right;\n",
       "    }\n",
       "</style>\n",
       "<table border=\"1\" class=\"dataframe\">\n",
       "  <thead>\n",
       "    <tr style=\"text-align: right;\">\n",
       "      <th></th>\n",
       "      <th>A</th>\n",
       "      <th>B</th>\n",
       "      <th>C</th>\n",
       "      <th>D</th>\n",
       "    </tr>\n",
       "  </thead>\n",
       "  <tbody>\n",
       "    <tr>\n",
       "      <th>2020-03-01</th>\n",
       "      <td>-1.639683</td>\n",
       "      <td>-0.029709</td>\n",
       "      <td>-0.091937</td>\n",
       "      <td>0.365003</td>\n",
       "    </tr>\n",
       "    <tr>\n",
       "      <th>2020-03-02</th>\n",
       "      <td>0.175224</td>\n",
       "      <td>-0.881299</td>\n",
       "      <td>-0.845883</td>\n",
       "      <td>-0.751133</td>\n",
       "    </tr>\n",
       "    <tr>\n",
       "      <th>2020-03-03</th>\n",
       "      <td>-1.090369</td>\n",
       "      <td>-1.128024</td>\n",
       "      <td>0.073043</td>\n",
       "      <td>-0.588850</td>\n",
       "    </tr>\n",
       "    <tr>\n",
       "      <th>2020-03-04</th>\n",
       "      <td>0.002777</td>\n",
       "      <td>-1.327249</td>\n",
       "      <td>2.270551</td>\n",
       "      <td>-1.124334</td>\n",
       "    </tr>\n",
       "    <tr>\n",
       "      <th>2020-03-05</th>\n",
       "      <td>1.558015</td>\n",
       "      <td>-0.306503</td>\n",
       "      <td>0.295755</td>\n",
       "      <td>0.181145</td>\n",
       "    </tr>\n",
       "  </tbody>\n",
       "</table>\n",
       "</div>"
      ],
      "text/plain": [
       "                   A         B         C         D\n",
       "2020-03-01 -1.639683 -0.029709 -0.091937  0.365003\n",
       "2020-03-02  0.175224 -0.881299 -0.845883 -0.751133\n",
       "2020-03-03 -1.090369 -1.128024  0.073043 -0.588850\n",
       "2020-03-04  0.002777 -1.327249  2.270551 -1.124334\n",
       "2020-03-05  1.558015 -0.306503  0.295755  0.181145"
      ]
     },
     "execution_count": 17,
     "metadata": {},
     "output_type": "execute_result"
    }
   ],
   "source": [
    "#To View Data using Pandas Library: It is very important to understand the various aspects to view the data in order to work on it.\n",
    "df=pd.DataFrame(np.random.randn(10,4), index=d,columns=['A','B','C','D'])\n",
    "df.head()"
   ]
  },
  {
   "cell_type": "code",
   "execution_count": 18,
   "metadata": {},
   "outputs": [
    {
     "data": {
      "text/html": [
       "<div>\n",
       "<style scoped>\n",
       "    .dataframe tbody tr th:only-of-type {\n",
       "        vertical-align: middle;\n",
       "    }\n",
       "\n",
       "    .dataframe tbody tr th {\n",
       "        vertical-align: top;\n",
       "    }\n",
       "\n",
       "    .dataframe thead th {\n",
       "        text-align: right;\n",
       "    }\n",
       "</style>\n",
       "<table border=\"1\" class=\"dataframe\">\n",
       "  <thead>\n",
       "    <tr style=\"text-align: right;\">\n",
       "      <th></th>\n",
       "      <th>A</th>\n",
       "      <th>B</th>\n",
       "      <th>C</th>\n",
       "      <th>D</th>\n",
       "    </tr>\n",
       "  </thead>\n",
       "  <tbody>\n",
       "    <tr>\n",
       "      <th>2020-03-06</th>\n",
       "      <td>0.885481</td>\n",
       "      <td>0.470666</td>\n",
       "      <td>-1.685994</td>\n",
       "      <td>-0.106709</td>\n",
       "    </tr>\n",
       "    <tr>\n",
       "      <th>2020-03-07</th>\n",
       "      <td>-2.002921</td>\n",
       "      <td>-0.566675</td>\n",
       "      <td>-1.568082</td>\n",
       "      <td>-0.812312</td>\n",
       "    </tr>\n",
       "    <tr>\n",
       "      <th>2020-03-08</th>\n",
       "      <td>-1.268296</td>\n",
       "      <td>0.127269</td>\n",
       "      <td>0.680084</td>\n",
       "      <td>0.100161</td>\n",
       "    </tr>\n",
       "    <tr>\n",
       "      <th>2020-03-09</th>\n",
       "      <td>-0.970156</td>\n",
       "      <td>0.308749</td>\n",
       "      <td>-0.589475</td>\n",
       "      <td>-1.349215</td>\n",
       "    </tr>\n",
       "    <tr>\n",
       "      <th>2020-03-10</th>\n",
       "      <td>0.150708</td>\n",
       "      <td>-0.103877</td>\n",
       "      <td>-0.704223</td>\n",
       "      <td>-1.029542</td>\n",
       "    </tr>\n",
       "  </tbody>\n",
       "</table>\n",
       "</div>"
      ],
      "text/plain": [
       "                   A         B         C         D\n",
       "2020-03-06  0.885481  0.470666 -1.685994 -0.106709\n",
       "2020-03-07 -2.002921 -0.566675 -1.568082 -0.812312\n",
       "2020-03-08 -1.268296  0.127269  0.680084  0.100161\n",
       "2020-03-09 -0.970156  0.308749 -0.589475 -1.349215\n",
       "2020-03-10  0.150708 -0.103877 -0.704223 -1.029542"
      ]
     },
     "execution_count": 18,
     "metadata": {},
     "output_type": "execute_result"
    }
   ],
   "source": [
    "df=pd.DataFrame(np.random.randn(10,4), index=d,columns=['A','B','C','D'])\n",
    "df.tail()"
   ]
  },
  {
   "cell_type": "code",
   "execution_count": 19,
   "metadata": {},
   "outputs": [
    {
     "data": {
      "text/plain": [
       "DatetimeIndex(['2020-03-01', '2020-03-02', '2020-03-03', '2020-03-04',\n",
       "               '2020-03-05', '2020-03-06', '2020-03-07', '2020-03-08',\n",
       "               '2020-03-09', '2020-03-10'],\n",
       "              dtype='datetime64[ns]', freq='D')"
      ]
     },
     "execution_count": 19,
     "metadata": {},
     "output_type": "execute_result"
    }
   ],
   "source": [
    "df=pd.DataFrame(np.random.randn(10,4), index=d,columns=['A','B','C','D'])\n",
    "df.index"
   ]
  },
  {
   "cell_type": "code",
   "execution_count": 20,
   "metadata": {},
   "outputs": [
    {
     "data": {
      "text/plain": [
       "Index(['A', 'B', 'C', 'D'], dtype='object')"
      ]
     },
     "execution_count": 20,
     "metadata": {},
     "output_type": "execute_result"
    }
   ],
   "source": [
    "df=pd.DataFrame(np.random.randn(10,4), index=d,columns=['A','B','C','D'])\n",
    "df.columns"
   ]
  },
  {
   "cell_type": "code",
   "execution_count": 21,
   "metadata": {},
   "outputs": [
    {
     "data": {
      "text/plain": [
       "array([[-2.41357309, -0.44301422, -0.02139137,  0.81813407],\n",
       "       [-2.01579615,  0.09300994, -1.37604424, -0.41902255],\n",
       "       [ 1.18679877, -0.333884  , -0.11412003,  0.5014544 ],\n",
       "       [-0.28662699,  2.4942838 ,  0.39000744, -0.36276394],\n",
       "       [-1.53780012, -0.795686  , -1.37256757, -0.29950734],\n",
       "       [-0.44484486,  0.94304937,  0.83290383,  1.61881955],\n",
       "       [ 0.66220416,  1.81454428,  1.01020941, -1.83415047],\n",
       "       [-0.24714128,  0.58744768,  0.0855305 , -0.87120751],\n",
       "       [-1.09057572, -0.71442894, -0.90445139, -0.791552  ],\n",
       "       [ 1.14189057,  0.72952826, -0.47335123,  1.0740222 ]])"
      ]
     },
     "execution_count": 21,
     "metadata": {},
     "output_type": "execute_result"
    }
   ],
   "source": [
    "df=pd.DataFrame(np.random.randn(10,4), index=d,columns=['A','B','C','D'])\n",
    "df.to_numpy()"
   ]
  },
  {
   "cell_type": "code",
   "execution_count": 22,
   "metadata": {},
   "outputs": [
    {
     "data": {
      "text/html": [
       "<div>\n",
       "<style scoped>\n",
       "    .dataframe tbody tr th:only-of-type {\n",
       "        vertical-align: middle;\n",
       "    }\n",
       "\n",
       "    .dataframe tbody tr th {\n",
       "        vertical-align: top;\n",
       "    }\n",
       "\n",
       "    .dataframe thead th {\n",
       "        text-align: right;\n",
       "    }\n",
       "</style>\n",
       "<table border=\"1\" class=\"dataframe\">\n",
       "  <thead>\n",
       "    <tr style=\"text-align: right;\">\n",
       "      <th></th>\n",
       "      <th>A</th>\n",
       "      <th>B</th>\n",
       "      <th>C</th>\n",
       "      <th>D</th>\n",
       "    </tr>\n",
       "  </thead>\n",
       "  <tbody>\n",
       "    <tr>\n",
       "      <th>count</th>\n",
       "      <td>10.000000</td>\n",
       "      <td>10.000000</td>\n",
       "      <td>10.000000</td>\n",
       "      <td>10.000000</td>\n",
       "    </tr>\n",
       "    <tr>\n",
       "      <th>mean</th>\n",
       "      <td>-0.710290</td>\n",
       "      <td>-0.078659</td>\n",
       "      <td>0.238363</td>\n",
       "      <td>0.323159</td>\n",
       "    </tr>\n",
       "    <tr>\n",
       "      <th>std</th>\n",
       "      <td>0.913183</td>\n",
       "      <td>1.020615</td>\n",
       "      <td>0.894981</td>\n",
       "      <td>1.069174</td>\n",
       "    </tr>\n",
       "    <tr>\n",
       "      <th>min</th>\n",
       "      <td>-2.745661</td>\n",
       "      <td>-1.831590</td>\n",
       "      <td>-0.982080</td>\n",
       "      <td>-1.224660</td>\n",
       "    </tr>\n",
       "    <tr>\n",
       "      <th>25%</th>\n",
       "      <td>-1.076147</td>\n",
       "      <td>-0.769367</td>\n",
       "      <td>-0.451440</td>\n",
       "      <td>-0.253796</td>\n",
       "    </tr>\n",
       "    <tr>\n",
       "      <th>50%</th>\n",
       "      <td>-0.596194</td>\n",
       "      <td>-0.056529</td>\n",
       "      <td>0.135414</td>\n",
       "      <td>0.078711</td>\n",
       "    </tr>\n",
       "    <tr>\n",
       "      <th>75%</th>\n",
       "      <td>-0.066602</td>\n",
       "      <td>0.773664</td>\n",
       "      <td>1.102721</td>\n",
       "      <td>1.283653</td>\n",
       "    </tr>\n",
       "    <tr>\n",
       "      <th>max</th>\n",
       "      <td>0.315909</td>\n",
       "      <td>1.389715</td>\n",
       "      <td>1.383326</td>\n",
       "      <td>1.822999</td>\n",
       "    </tr>\n",
       "  </tbody>\n",
       "</table>\n",
       "</div>"
      ],
      "text/plain": [
       "               A          B          C          D\n",
       "count  10.000000  10.000000  10.000000  10.000000\n",
       "mean   -0.710290  -0.078659   0.238363   0.323159\n",
       "std     0.913183   1.020615   0.894981   1.069174\n",
       "min    -2.745661  -1.831590  -0.982080  -1.224660\n",
       "25%    -1.076147  -0.769367  -0.451440  -0.253796\n",
       "50%    -0.596194  -0.056529   0.135414   0.078711\n",
       "75%    -0.066602   0.773664   1.102721   1.283653\n",
       "max     0.315909   1.389715   1.383326   1.822999"
      ]
     },
     "execution_count": 22,
     "metadata": {},
     "output_type": "execute_result"
    }
   ],
   "source": [
    "df=pd.DataFrame(np.random.randn(10,4), index=d,columns=['A','B','C','D'])\n",
    "df.describe()"
   ]
  },
  {
   "cell_type": "code",
   "execution_count": 23,
   "metadata": {},
   "outputs": [
    {
     "data": {
      "text/html": [
       "<div>\n",
       "<style scoped>\n",
       "    .dataframe tbody tr th:only-of-type {\n",
       "        vertical-align: middle;\n",
       "    }\n",
       "\n",
       "    .dataframe tbody tr th {\n",
       "        vertical-align: top;\n",
       "    }\n",
       "\n",
       "    .dataframe thead th {\n",
       "        text-align: right;\n",
       "    }\n",
       "</style>\n",
       "<table border=\"1\" class=\"dataframe\">\n",
       "  <thead>\n",
       "    <tr style=\"text-align: right;\">\n",
       "      <th></th>\n",
       "      <th>D</th>\n",
       "      <th>C</th>\n",
       "      <th>B</th>\n",
       "      <th>A</th>\n",
       "    </tr>\n",
       "  </thead>\n",
       "  <tbody>\n",
       "    <tr>\n",
       "      <th>2020-03-01</th>\n",
       "      <td>-1.339188</td>\n",
       "      <td>0.019299</td>\n",
       "      <td>-0.952959</td>\n",
       "      <td>0.553891</td>\n",
       "    </tr>\n",
       "    <tr>\n",
       "      <th>2020-03-02</th>\n",
       "      <td>-0.186300</td>\n",
       "      <td>-0.440335</td>\n",
       "      <td>-1.077777</td>\n",
       "      <td>-1.280107</td>\n",
       "    </tr>\n",
       "    <tr>\n",
       "      <th>2020-03-03</th>\n",
       "      <td>-2.192739</td>\n",
       "      <td>0.066321</td>\n",
       "      <td>0.868899</td>\n",
       "      <td>-0.327121</td>\n",
       "    </tr>\n",
       "    <tr>\n",
       "      <th>2020-03-04</th>\n",
       "      <td>0.611412</td>\n",
       "      <td>0.875523</td>\n",
       "      <td>-2.336207</td>\n",
       "      <td>0.055196</td>\n",
       "    </tr>\n",
       "    <tr>\n",
       "      <th>2020-03-05</th>\n",
       "      <td>1.016204</td>\n",
       "      <td>-1.432560</td>\n",
       "      <td>-1.688166</td>\n",
       "      <td>1.228042</td>\n",
       "    </tr>\n",
       "    <tr>\n",
       "      <th>2020-03-06</th>\n",
       "      <td>0.218762</td>\n",
       "      <td>-0.323241</td>\n",
       "      <td>-1.133929</td>\n",
       "      <td>1.466973</td>\n",
       "    </tr>\n",
       "    <tr>\n",
       "      <th>2020-03-07</th>\n",
       "      <td>-0.116478</td>\n",
       "      <td>-0.316336</td>\n",
       "      <td>0.386957</td>\n",
       "      <td>1.121886</td>\n",
       "    </tr>\n",
       "    <tr>\n",
       "      <th>2020-03-08</th>\n",
       "      <td>0.511879</td>\n",
       "      <td>-0.054606</td>\n",
       "      <td>-0.075886</td>\n",
       "      <td>1.811097</td>\n",
       "    </tr>\n",
       "    <tr>\n",
       "      <th>2020-03-09</th>\n",
       "      <td>0.395520</td>\n",
       "      <td>-0.410019</td>\n",
       "      <td>0.079717</td>\n",
       "      <td>-1.939281</td>\n",
       "    </tr>\n",
       "    <tr>\n",
       "      <th>2020-03-10</th>\n",
       "      <td>0.500891</td>\n",
       "      <td>-1.288473</td>\n",
       "      <td>0.143105</td>\n",
       "      <td>0.480790</td>\n",
       "    </tr>\n",
       "  </tbody>\n",
       "</table>\n",
       "</div>"
      ],
      "text/plain": [
       "                   D         C         B         A\n",
       "2020-03-01 -1.339188  0.019299 -0.952959  0.553891\n",
       "2020-03-02 -0.186300 -0.440335 -1.077777 -1.280107\n",
       "2020-03-03 -2.192739  0.066321  0.868899 -0.327121\n",
       "2020-03-04  0.611412  0.875523 -2.336207  0.055196\n",
       "2020-03-05  1.016204 -1.432560 -1.688166  1.228042\n",
       "2020-03-06  0.218762 -0.323241 -1.133929  1.466973\n",
       "2020-03-07 -0.116478 -0.316336  0.386957  1.121886\n",
       "2020-03-08  0.511879 -0.054606 -0.075886  1.811097\n",
       "2020-03-09  0.395520 -0.410019  0.079717 -1.939281\n",
       "2020-03-10  0.500891 -1.288473  0.143105  0.480790"
      ]
     },
     "execution_count": 23,
     "metadata": {},
     "output_type": "execute_result"
    }
   ],
   "source": [
    "df=pd.DataFrame(np.random.randn(10,4), index=d,columns=['A','B','C','D'])\n",
    "df.sort_index(axis=1, ascending=False)"
   ]
  },
  {
   "cell_type": "code",
   "execution_count": 24,
   "metadata": {},
   "outputs": [
    {
     "data": {
      "text/html": [
       "<div>\n",
       "<style scoped>\n",
       "    .dataframe tbody tr th:only-of-type {\n",
       "        vertical-align: middle;\n",
       "    }\n",
       "\n",
       "    .dataframe tbody tr th {\n",
       "        vertical-align: top;\n",
       "    }\n",
       "\n",
       "    .dataframe thead th {\n",
       "        text-align: right;\n",
       "    }\n",
       "</style>\n",
       "<table border=\"1\" class=\"dataframe\">\n",
       "  <thead>\n",
       "    <tr style=\"text-align: right;\">\n",
       "      <th></th>\n",
       "      <th>A</th>\n",
       "      <th>B</th>\n",
       "      <th>C</th>\n",
       "      <th>D</th>\n",
       "    </tr>\n",
       "  </thead>\n",
       "  <tbody>\n",
       "    <tr>\n",
       "      <th>2020-03-03</th>\n",
       "      <td>0.241272</td>\n",
       "      <td>-0.229080</td>\n",
       "      <td>-1.950155</td>\n",
       "      <td>-1.164593</td>\n",
       "    </tr>\n",
       "    <tr>\n",
       "      <th>2020-03-10</th>\n",
       "      <td>-0.028894</td>\n",
       "      <td>-0.653823</td>\n",
       "      <td>-0.218759</td>\n",
       "      <td>-1.166198</td>\n",
       "    </tr>\n",
       "    <tr>\n",
       "      <th>2020-03-09</th>\n",
       "      <td>-0.625815</td>\n",
       "      <td>-0.133090</td>\n",
       "      <td>-0.107455</td>\n",
       "      <td>-0.061665</td>\n",
       "    </tr>\n",
       "    <tr>\n",
       "      <th>2020-03-01</th>\n",
       "      <td>-0.349769</td>\n",
       "      <td>0.694819</td>\n",
       "      <td>-0.107148</td>\n",
       "      <td>-0.190082</td>\n",
       "    </tr>\n",
       "    <tr>\n",
       "      <th>2020-03-07</th>\n",
       "      <td>-0.132950</td>\n",
       "      <td>0.211295</td>\n",
       "      <td>-0.091872</td>\n",
       "      <td>-0.958865</td>\n",
       "    </tr>\n",
       "    <tr>\n",
       "      <th>2020-03-02</th>\n",
       "      <td>-0.214764</td>\n",
       "      <td>1.261222</td>\n",
       "      <td>0.346237</td>\n",
       "      <td>-0.973746</td>\n",
       "    </tr>\n",
       "    <tr>\n",
       "      <th>2020-03-05</th>\n",
       "      <td>0.307632</td>\n",
       "      <td>-1.028736</td>\n",
       "      <td>0.486517</td>\n",
       "      <td>-1.342793</td>\n",
       "    </tr>\n",
       "    <tr>\n",
       "      <th>2020-03-06</th>\n",
       "      <td>1.003104</td>\n",
       "      <td>-1.383767</td>\n",
       "      <td>0.549165</td>\n",
       "      <td>1.675452</td>\n",
       "    </tr>\n",
       "    <tr>\n",
       "      <th>2020-03-04</th>\n",
       "      <td>0.562515</td>\n",
       "      <td>-0.323667</td>\n",
       "      <td>0.660270</td>\n",
       "      <td>0.814692</td>\n",
       "    </tr>\n",
       "    <tr>\n",
       "      <th>2020-03-08</th>\n",
       "      <td>-0.837790</td>\n",
       "      <td>-0.642700</td>\n",
       "      <td>1.774894</td>\n",
       "      <td>0.544927</td>\n",
       "    </tr>\n",
       "  </tbody>\n",
       "</table>\n",
       "</div>"
      ],
      "text/plain": [
       "                   A         B         C         D\n",
       "2020-03-03  0.241272 -0.229080 -1.950155 -1.164593\n",
       "2020-03-10 -0.028894 -0.653823 -0.218759 -1.166198\n",
       "2020-03-09 -0.625815 -0.133090 -0.107455 -0.061665\n",
       "2020-03-01 -0.349769  0.694819 -0.107148 -0.190082\n",
       "2020-03-07 -0.132950  0.211295 -0.091872 -0.958865\n",
       "2020-03-02 -0.214764  1.261222  0.346237 -0.973746\n",
       "2020-03-05  0.307632 -1.028736  0.486517 -1.342793\n",
       "2020-03-06  1.003104 -1.383767  0.549165  1.675452\n",
       "2020-03-04  0.562515 -0.323667  0.660270  0.814692\n",
       "2020-03-08 -0.837790 -0.642700  1.774894  0.544927"
      ]
     },
     "execution_count": 24,
     "metadata": {},
     "output_type": "execute_result"
    }
   ],
   "source": [
    "df=pd.DataFrame(np.random.randn(10,4), index=d,columns=['A','B','C','D'])\n",
    "df.sort_values(by='C')"
   ]
  },
  {
   "cell_type": "code",
   "execution_count": 25,
   "metadata": {},
   "outputs": [
    {
     "data": {
      "text/plain": [
       "2020-03-01   -0.141702\n",
       "2020-03-02   -0.314199\n",
       "2020-03-03    0.082990\n",
       "2020-03-04    1.638732\n",
       "2020-03-05    1.008197\n",
       "2020-03-06    1.409953\n",
       "2020-03-07   -1.567590\n",
       "2020-03-08   -0.993881\n",
       "2020-03-09   -1.407694\n",
       "2020-03-10   -0.784453\n",
       "Freq: D, Name: C, dtype: float64"
      ]
     },
     "execution_count": 25,
     "metadata": {},
     "output_type": "execute_result"
    }
   ],
   "source": [
    "#To select single column form the dataframe.\n",
    "df=pd.DataFrame(np.random.randn(10,4), index=d,columns=['A','B','C','D'])\n",
    "df['C']"
   ]
  },
  {
   "cell_type": "code",
   "execution_count": 26,
   "metadata": {},
   "outputs": [
    {
     "data": {
      "text/html": [
       "<div>\n",
       "<style scoped>\n",
       "    .dataframe tbody tr th:only-of-type {\n",
       "        vertical-align: middle;\n",
       "    }\n",
       "\n",
       "    .dataframe tbody tr th {\n",
       "        vertical-align: top;\n",
       "    }\n",
       "\n",
       "    .dataframe thead th {\n",
       "        text-align: right;\n",
       "    }\n",
       "</style>\n",
       "<table border=\"1\" class=\"dataframe\">\n",
       "  <thead>\n",
       "    <tr style=\"text-align: right;\">\n",
       "      <th></th>\n",
       "      <th>A</th>\n",
       "      <th>B</th>\n",
       "      <th>C</th>\n",
       "      <th>D</th>\n",
       "    </tr>\n",
       "  </thead>\n",
       "  <tbody>\n",
       "    <tr>\n",
       "      <th>2020-03-01</th>\n",
       "      <td>0.824425</td>\n",
       "      <td>0.578649</td>\n",
       "      <td>-1.364279</td>\n",
       "      <td>1.980549</td>\n",
       "    </tr>\n",
       "    <tr>\n",
       "      <th>2020-03-02</th>\n",
       "      <td>-0.835019</td>\n",
       "      <td>-0.215774</td>\n",
       "      <td>-0.653406</td>\n",
       "      <td>0.239951</td>\n",
       "    </tr>\n",
       "    <tr>\n",
       "      <th>2020-03-03</th>\n",
       "      <td>-0.445221</td>\n",
       "      <td>-0.223184</td>\n",
       "      <td>0.202055</td>\n",
       "      <td>0.824970</td>\n",
       "    </tr>\n",
       "  </tbody>\n",
       "</table>\n",
       "</div>"
      ],
      "text/plain": [
       "                   A         B         C         D\n",
       "2020-03-01  0.824425  0.578649 -1.364279  1.980549\n",
       "2020-03-02 -0.835019 -0.215774 -0.653406  0.239951\n",
       "2020-03-03 -0.445221 -0.223184  0.202055  0.824970"
      ]
     },
     "execution_count": 26,
     "metadata": {},
     "output_type": "execute_result"
    }
   ],
   "source": [
    "#To Slice the row in DataFrame\n",
    "df=pd.DataFrame(np.random.randn(10,4), index=d,columns=['A','B','C','D'])\n",
    "df[0:3]"
   ]
  },
  {
   "cell_type": "code",
   "execution_count": 27,
   "metadata": {},
   "outputs": [
    {
     "data": {
      "text/plain": [
       "A    0.231878\n",
       "B   -0.275698\n",
       "C    1.249888\n",
       "D   -0.644161\n",
       "Name: 2020-03-01 00:00:00, dtype: float64"
      ]
     },
     "execution_count": 27,
     "metadata": {},
     "output_type": "execute_result"
    }
   ],
   "source": [
    "#To select data using the Labels\n",
    "df=pd.DataFrame(np.random.randn(10,4), index=d,columns=['A','B','C','D'])\n",
    "df.loc[d[0]]"
   ]
  },
  {
   "cell_type": "code",
   "execution_count": 28,
   "metadata": {},
   "outputs": [
    {
     "data": {
      "text/html": [
       "<div>\n",
       "<style scoped>\n",
       "    .dataframe tbody tr th:only-of-type {\n",
       "        vertical-align: middle;\n",
       "    }\n",
       "\n",
       "    .dataframe tbody tr th {\n",
       "        vertical-align: top;\n",
       "    }\n",
       "\n",
       "    .dataframe thead th {\n",
       "        text-align: right;\n",
       "    }\n",
       "</style>\n",
       "<table border=\"1\" class=\"dataframe\">\n",
       "  <thead>\n",
       "    <tr style=\"text-align: right;\">\n",
       "      <th></th>\n",
       "      <th>A</th>\n",
       "      <th>C</th>\n",
       "    </tr>\n",
       "  </thead>\n",
       "  <tbody>\n",
       "    <tr>\n",
       "      <th>2020-03-01</th>\n",
       "      <td>-0.326008</td>\n",
       "      <td>1.229695</td>\n",
       "    </tr>\n",
       "    <tr>\n",
       "      <th>2020-03-02</th>\n",
       "      <td>0.028773</td>\n",
       "      <td>0.920565</td>\n",
       "    </tr>\n",
       "    <tr>\n",
       "      <th>2020-03-03</th>\n",
       "      <td>-0.673567</td>\n",
       "      <td>-1.029850</td>\n",
       "    </tr>\n",
       "    <tr>\n",
       "      <th>2020-03-04</th>\n",
       "      <td>-1.183980</td>\n",
       "      <td>-0.054857</td>\n",
       "    </tr>\n",
       "    <tr>\n",
       "      <th>2020-03-05</th>\n",
       "      <td>-1.376337</td>\n",
       "      <td>1.309053</td>\n",
       "    </tr>\n",
       "    <tr>\n",
       "      <th>2020-03-06</th>\n",
       "      <td>0.796507</td>\n",
       "      <td>0.190534</td>\n",
       "    </tr>\n",
       "    <tr>\n",
       "      <th>2020-03-07</th>\n",
       "      <td>0.418545</td>\n",
       "      <td>-0.494161</td>\n",
       "    </tr>\n",
       "    <tr>\n",
       "      <th>2020-03-08</th>\n",
       "      <td>0.417106</td>\n",
       "      <td>3.025417</td>\n",
       "    </tr>\n",
       "    <tr>\n",
       "      <th>2020-03-09</th>\n",
       "      <td>-0.413030</td>\n",
       "      <td>-0.010853</td>\n",
       "    </tr>\n",
       "    <tr>\n",
       "      <th>2020-03-10</th>\n",
       "      <td>-0.872976</td>\n",
       "      <td>1.695852</td>\n",
       "    </tr>\n",
       "  </tbody>\n",
       "</table>\n",
       "</div>"
      ],
      "text/plain": [
       "                   A         C\n",
       "2020-03-01 -0.326008  1.229695\n",
       "2020-03-02  0.028773  0.920565\n",
       "2020-03-03 -0.673567 -1.029850\n",
       "2020-03-04 -1.183980 -0.054857\n",
       "2020-03-05 -1.376337  1.309053\n",
       "2020-03-06  0.796507  0.190534\n",
       "2020-03-07  0.418545 -0.494161\n",
       "2020-03-08  0.417106  3.025417\n",
       "2020-03-09 -0.413030 -0.010853\n",
       "2020-03-10 -0.872976  1.695852"
      ]
     },
     "execution_count": 28,
     "metadata": {},
     "output_type": "execute_result"
    }
   ],
   "source": [
    "#Selecting data on the Multiaxis by label\n",
    "df=pd.DataFrame(np.random.randn(10,4), index=d,columns=['A','B','C','D'])\n",
    "df.loc[:,['A','C']]"
   ]
  },
  {
   "cell_type": "code",
   "execution_count": 29,
   "metadata": {},
   "outputs": [
    {
     "data": {
      "text/html": [
       "<div>\n",
       "<style scoped>\n",
       "    .dataframe tbody tr th:only-of-type {\n",
       "        vertical-align: middle;\n",
       "    }\n",
       "\n",
       "    .dataframe tbody tr th {\n",
       "        vertical-align: top;\n",
       "    }\n",
       "\n",
       "    .dataframe thead th {\n",
       "        text-align: right;\n",
       "    }\n",
       "</style>\n",
       "<table border=\"1\" class=\"dataframe\">\n",
       "  <thead>\n",
       "    <tr style=\"text-align: right;\">\n",
       "      <th></th>\n",
       "      <th>D</th>\n",
       "      <th>C</th>\n",
       "    </tr>\n",
       "  </thead>\n",
       "  <tbody>\n",
       "    <tr>\n",
       "      <th>2020-03-01</th>\n",
       "      <td>-1.327981</td>\n",
       "      <td>0.486205</td>\n",
       "    </tr>\n",
       "    <tr>\n",
       "      <th>2020-03-02</th>\n",
       "      <td>-1.194179</td>\n",
       "      <td>2.354249</td>\n",
       "    </tr>\n",
       "    <tr>\n",
       "      <th>2020-03-03</th>\n",
       "      <td>0.846332</td>\n",
       "      <td>0.048705</td>\n",
       "    </tr>\n",
       "    <tr>\n",
       "      <th>2020-03-04</th>\n",
       "      <td>-0.048564</td>\n",
       "      <td>-0.747738</td>\n",
       "    </tr>\n",
       "    <tr>\n",
       "      <th>2020-03-05</th>\n",
       "      <td>0.311511</td>\n",
       "      <td>0.708011</td>\n",
       "    </tr>\n",
       "    <tr>\n",
       "      <th>2020-03-06</th>\n",
       "      <td>0.011113</td>\n",
       "      <td>0.325739</td>\n",
       "    </tr>\n",
       "    <tr>\n",
       "      <th>2020-03-07</th>\n",
       "      <td>1.872798</td>\n",
       "      <td>-0.485714</td>\n",
       "    </tr>\n",
       "    <tr>\n",
       "      <th>2020-03-08</th>\n",
       "      <td>-0.939772</td>\n",
       "      <td>-1.051130</td>\n",
       "    </tr>\n",
       "    <tr>\n",
       "      <th>2020-03-09</th>\n",
       "      <td>-1.396298</td>\n",
       "      <td>-1.167438</td>\n",
       "    </tr>\n",
       "    <tr>\n",
       "      <th>2020-03-10</th>\n",
       "      <td>-0.277950</td>\n",
       "      <td>0.805198</td>\n",
       "    </tr>\n",
       "  </tbody>\n",
       "</table>\n",
       "</div>"
      ],
      "text/plain": [
       "                   D         C\n",
       "2020-03-01 -1.327981  0.486205\n",
       "2020-03-02 -1.194179  2.354249\n",
       "2020-03-03  0.846332  0.048705\n",
       "2020-03-04 -0.048564 -0.747738\n",
       "2020-03-05  0.311511  0.708011\n",
       "2020-03-06  0.011113  0.325739\n",
       "2020-03-07  1.872798 -0.485714\n",
       "2020-03-08 -0.939772 -1.051130\n",
       "2020-03-09 -1.396298 -1.167438\n",
       "2020-03-10 -0.277950  0.805198"
      ]
     },
     "execution_count": 29,
     "metadata": {},
     "output_type": "execute_result"
    }
   ],
   "source": [
    "df=pd.DataFrame(np.random.randn(10,4), index=d,columns=['A','B','C','D'])\n",
    "df.loc[:,['D', 'C']]\n"
   ]
  },
  {
   "cell_type": "code",
   "execution_count": 30,
   "metadata": {},
   "outputs": [
    {
     "data": {
      "text/plain": [
       "np.float64(1.853958593136351)"
      ]
     },
     "execution_count": 30,
     "metadata": {},
     "output_type": "execute_result"
    }
   ],
   "source": [
    "import pandas as pd\n",
    "import numpy as np\n",
    "df=pd.DataFrame(np.random.randn(10,4), index=d,columns=['A','B','C','D'])\n",
    "df.at[d[0], 'C']"
   ]
  },
  {
   "cell_type": "code",
   "execution_count": 31,
   "metadata": {},
   "outputs": [
    {
     "name": "stdout",
     "output_type": "stream",
     "text": [
      "    A  B  C   D\n",
      "20  2  5  7  10\n",
      "30  3  6  8  11\n"
     ]
    }
   ],
   "source": [
    "#TO MERGE TWO DATAFRAMES\n",
    "import pandas as pd\n",
    "df1 = pd.DataFrame({'A':[1,2,3], \n",
    "                    'B': [4,5,6]},\n",
    "                    index = [10,20,30])\n",
    "df2 = pd.DataFrame({'C':[7,8,9],\n",
    "                    'D':[10,11,12]},\n",
    "                    index=[20,30,40])\n",
    "\n",
    "result = pd.merge(df1,df2,left_index=True,right_index=True)\n",
    "print(result)"
   ]
  },
  {
   "cell_type": "code",
   "execution_count": 40,
   "metadata": {},
   "outputs": [
    {
     "name": "stdout",
     "output_type": "stream",
     "text": [
      "                   A         B         C         D\n",
      "2020-03-08  0.778328 -0.820660  0.277056 -0.717965\n",
      "2020-03-10  0.216633  0.444418  1.507534 -2.075223\n",
      "2020-03-09  0.115971 -0.826563  1.784573 -0.525347\n",
      "2020-03-03 -0.117021  0.940203 -0.362365  0.469842\n",
      "2020-03-01 -0.533939 -0.566267 -0.317442  0.688473\n",
      "2020-03-05 -0.715129  0.555418 -1.240203  0.447372\n",
      "2020-03-06 -0.762613 -1.118815  1.145011 -1.069626\n",
      "2020-03-04 -0.831143 -1.194148  0.189325 -0.014269\n",
      "2020-03-02 -1.391324 -1.100563  0.955527 -0.092859\n",
      "2020-03-07 -3.859296  0.303311 -0.939394  0.009655\n",
      "A   -0.709953\n",
      "B   -0.338367\n",
      "C    0.299962\n",
      "D   -0.287995\n",
      "dtype: float64\n",
      "A   -0.624534\n",
      "B   -0.693463\n",
      "C    0.233191\n",
      "D   -0.053564\n",
      "dtype: float64\n",
      "          A         B         C         D\n",
      "0 -3.859296 -1.194148 -1.240203 -2.075223\n",
      "1 -1.391324 -1.118815 -0.939394 -1.069626\n",
      "2 -0.831143 -1.100563 -0.362365 -0.717965\n",
      "3 -0.762613 -0.826563 -0.317442 -0.525347\n",
      "4 -0.715129 -0.820660  0.189325 -0.092859\n",
      "5 -0.533939 -0.566267  0.277056 -0.014269\n",
      "6 -0.117021  0.303311  0.955527  0.009655\n",
      "7  0.115971  0.444418  1.145011  0.447372\n",
      "8  0.216633  0.555418  1.507534  0.469842\n",
      "9  0.778328  0.940203  1.784573  0.688473\n",
      "A    1.615373\n",
      "B    0.655931\n",
      "C    1.060768\n",
      "D    0.701835\n",
      "dtype: float64\n",
      "A    1.270973\n",
      "B    0.809896\n",
      "C    1.029936\n",
      "D    0.837756\n",
      "dtype: float64\n",
      "A   -0.624534\n",
      "B   -0.693463\n",
      "C    0.233191\n",
      "D   -0.053564\n",
      "Name: 0.5, dtype: float64\n"
     ]
    }
   ],
   "source": [
    "df=pd.DataFrame(np.random.randn(10,4), index=d,columns=['A','B','C','D'])\n",
    "print(df.sort_values(by='A',ascending=False))\n",
    "print(df.mean())\n",
    "print(df.median())\n",
    "print(df.mode())\n",
    "print(df.var())\n",
    "print(df.std())\n",
    "print(df.quantile())"
   ]
  },
  {
   "cell_type": "code",
   "execution_count": 41,
   "metadata": {},
   "outputs": [
    {
     "name": "stdout",
     "output_type": "stream",
     "text": [
      "<bound method NDFrame.describe of                    A         B         C         D\n",
      "2020-03-01 -0.533939 -0.566267 -0.317442  0.688473\n",
      "2020-03-02 -1.391324 -1.100563  0.955527 -0.092859\n",
      "2020-03-03 -0.117021  0.940203 -0.362365  0.469842\n",
      "2020-03-04 -0.831143 -1.194148  0.189325 -0.014269\n",
      "2020-03-05 -0.715129  0.555418 -1.240203  0.447372\n",
      "2020-03-06 -0.762613 -1.118815  1.145011 -1.069626\n",
      "2020-03-07 -3.859296  0.303311 -0.939394  0.009655\n",
      "2020-03-08  0.778328 -0.820660  0.277056 -0.717965\n",
      "2020-03-09  0.115971 -0.826563  1.784573 -0.525347\n",
      "2020-03-10  0.216633  0.444418  1.507534 -2.075223>\n"
     ]
    }
   ],
   "source": [
    "print(df.describe)"
   ]
  }
 ],
 "metadata": {
  "kernelspec": {
   "display_name": "Python 3",
   "language": "python",
   "name": "python3"
  },
  "language_info": {
   "codemirror_mode": {
    "name": "ipython",
    "version": 3
   },
   "file_extension": ".py",
   "mimetype": "text/x-python",
   "name": "python",
   "nbconvert_exporter": "python",
   "pygments_lexer": "ipython3",
   "version": "3.12.4"
  }
 },
 "nbformat": 4,
 "nbformat_minor": 2
}
