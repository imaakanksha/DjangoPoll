{
 "cells": [
  {
   "cell_type": "code",
   "execution_count": 5,
   "metadata": {},
   "outputs": [
    {
     "name": "stdout",
     "output_type": "stream",
     "text": [
      "0     1.0\n",
      "1     2.0\n",
      "2     3.0\n",
      "3     4.0\n",
      "4     5.0\n",
      "5     6.0\n",
      "6     NaN\n",
      "7     9.0\n",
      "8     8.0\n",
      "9    10.0\n",
      "dtype: float64\n"
     ]
    }
   ],
   "source": [
    "# Pandas is used for the data manipulation, analysis and cleaning.\n",
    "#DataFrames: A DataFrame is a Two-Dimensional, size-mutable, potentially heterogeneous tabular data.\n",
    "import pandas as pd\n",
    "import numpy as np\n",
    "#To Create Series in Python using Pandas\n",
    "s = pd.Series([1,2,3,4,5,6,np.nan,9,8,10])\n",
    "print(s)\n"
   ]
  },
  {
   "cell_type": "code",
   "execution_count": 9,
   "metadata": {},
   "outputs": [
    {
     "name": "stdout",
     "output_type": "stream",
     "text": [
      "DatetimeIndex(['2020-03-01', '2020-03-02', '2020-03-03', '2020-03-04',\n",
      "               '2020-03-05', '2020-03-06', '2020-03-07', '2020-03-08',\n",
      "               '2020-03-09', '2020-03-10'],\n",
      "              dtype='datetime64[ns]', freq='D')\n"
     ]
    }
   ],
   "source": [
    "#To chreate dataframe by passing NumPy Array with datetime index and labeled column\n",
    "import pandas as pd\n",
    "import numpy as np\n",
    "d=pd.date_range('20200301', periods=10)\n",
    "print(d)"
   ]
  },
  {
   "cell_type": "code",
   "execution_count": 12,
   "metadata": {},
   "outputs": [
    {
     "name": "stdout",
     "output_type": "stream",
     "text": [
      "                   A         B         C         D\n",
      "2020-03-01 -0.152021 -0.964467 -0.900572  1.375029\n",
      "2020-03-02 -0.111666  0.985226 -0.184397 -0.554774\n",
      "2020-03-03  0.408085  0.313087  0.070382  1.282344\n",
      "2020-03-04  1.884621  0.551508  0.839011 -1.268787\n",
      "2020-03-05  1.657972  1.118167  0.117698  0.098354\n",
      "2020-03-06  1.372671 -1.764399 -0.348159 -0.048153\n",
      "2020-03-07  1.156389  0.063470  0.802397  0.875822\n",
      "2020-03-08  0.492519  0.244765  0.341589  1.018621\n",
      "2020-03-09  0.357851  0.242982  0.493807  0.981937\n",
      "2020-03-10  0.277069 -0.395888 -0.324904  0.005715\n"
     ]
    }
   ],
   "source": [
    "#To create a DataFrame by passing a NumPy Array with datetime index and labelled columns i.e. A,B,C,D\n",
    "import pandas as pd\n",
    "import numpy as np\n",
    "df=pd.DataFrame(np.random.randn(10,4), index=d,columns=['A','B','C','D'])\n",
    "print(df)"
   ]
  },
  {
   "cell_type": "code",
   "execution_count": 17,
   "metadata": {},
   "outputs": [
    {
     "name": "stdout",
     "output_type": "stream",
     "text": [
      "   A          B    C  D      E         F\n",
      "0  1 1998-06-22  1.0  5   true  Akanksha\n",
      "1  2 1998-06-22  1.0  5  False  Akanksha\n",
      "2  3 1998-06-22  1.0  5   True  Akanksha\n",
      "3  4 1998-06-22  1.0  5  False  Akanksha\n"
     ]
    }
   ],
   "source": [
    "#To create DataFrame by passing the dictionary of objects\n",
    "import pandas as pd\n",
    "import numpy as np\n",
    "df1=pd.DataFrame({'A':[1,2,3,4],\n",
    "                 'B':pd.Timestamp('19980622'),\n",
    "                 'C':pd.Series(1, index=list(range(4)), dtype='float32'),\n",
    "                 'D':np.array([5]*4, dtype='int32'),\n",
    "                 'E':pd.Categorical(['true','False','True','False']),\n",
    "                 'F':'Akanksha'})\n",
    "print(df)"
   ]
  },
  {
   "cell_type": "code",
   "execution_count": 19,
   "metadata": {},
   "outputs": [
    {
     "name": "stdout",
     "output_type": "stream",
     "text": [
      "A            int64\n",
      "B    datetime64[s]\n",
      "C          float32\n",
      "D            int32\n",
      "E         category\n",
      "F           object\n",
      "dtype: object\n"
     ]
    }
   ],
   "source": [
    "import pandas as pd\n",
    "import numpy as np\n",
    "print(df.dtypes)"
   ]
  },
  {
   "cell_type": "code",
   "execution_count": 62,
   "metadata": {},
   "outputs": [
    {
     "data": {
      "text/html": [
       "<div>\n",
       "<style scoped>\n",
       "    .dataframe tbody tr th:only-of-type {\n",
       "        vertical-align: middle;\n",
       "    }\n",
       "\n",
       "    .dataframe tbody tr th {\n",
       "        vertical-align: top;\n",
       "    }\n",
       "\n",
       "    .dataframe thead th {\n",
       "        text-align: right;\n",
       "    }\n",
       "</style>\n",
       "<table border=\"1\" class=\"dataframe\">\n",
       "  <thead>\n",
       "    <tr style=\"text-align: right;\">\n",
       "      <th></th>\n",
       "      <th>A</th>\n",
       "      <th>B</th>\n",
       "      <th>C</th>\n",
       "      <th>D</th>\n",
       "    </tr>\n",
       "  </thead>\n",
       "  <tbody>\n",
       "    <tr>\n",
       "      <th>2020-03-01</th>\n",
       "      <td>-0.012864</td>\n",
       "      <td>-0.140180</td>\n",
       "      <td>0.075309</td>\n",
       "      <td>2.144985</td>\n",
       "    </tr>\n",
       "    <tr>\n",
       "      <th>2020-03-02</th>\n",
       "      <td>-0.761481</td>\n",
       "      <td>-0.560811</td>\n",
       "      <td>0.037452</td>\n",
       "      <td>-0.098315</td>\n",
       "    </tr>\n",
       "    <tr>\n",
       "      <th>2020-03-03</th>\n",
       "      <td>-1.323873</td>\n",
       "      <td>-0.421194</td>\n",
       "      <td>1.165612</td>\n",
       "      <td>0.321176</td>\n",
       "    </tr>\n",
       "    <tr>\n",
       "      <th>2020-03-04</th>\n",
       "      <td>0.247745</td>\n",
       "      <td>0.337755</td>\n",
       "      <td>-0.009136</td>\n",
       "      <td>-1.437089</td>\n",
       "    </tr>\n",
       "    <tr>\n",
       "      <th>2020-03-05</th>\n",
       "      <td>0.442289</td>\n",
       "      <td>-0.395528</td>\n",
       "      <td>0.617596</td>\n",
       "      <td>-1.666984</td>\n",
       "    </tr>\n",
       "  </tbody>\n",
       "</table>\n",
       "</div>"
      ],
      "text/plain": [
       "                   A         B         C         D\n",
       "2020-03-01 -0.012864 -0.140180  0.075309  2.144985\n",
       "2020-03-02 -0.761481 -0.560811  0.037452 -0.098315\n",
       "2020-03-03 -1.323873 -0.421194  1.165612  0.321176\n",
       "2020-03-04  0.247745  0.337755 -0.009136 -1.437089\n",
       "2020-03-05  0.442289 -0.395528  0.617596 -1.666984"
      ]
     },
     "execution_count": 62,
     "metadata": {},
     "output_type": "execute_result"
    }
   ],
   "source": [
    "#To View Data using Pandas Library: It is very important to understand the various aspects to view the data in order to work on it.\n",
    "df=pd.DataFrame(np.random.randn(10,4), index=d,columns=['A','B','C','D'])\n",
    "df.head()"
   ]
  },
  {
   "cell_type": "code",
   "execution_count": 63,
   "metadata": {},
   "outputs": [
    {
     "data": {
      "text/html": [
       "<div>\n",
       "<style scoped>\n",
       "    .dataframe tbody tr th:only-of-type {\n",
       "        vertical-align: middle;\n",
       "    }\n",
       "\n",
       "    .dataframe tbody tr th {\n",
       "        vertical-align: top;\n",
       "    }\n",
       "\n",
       "    .dataframe thead th {\n",
       "        text-align: right;\n",
       "    }\n",
       "</style>\n",
       "<table border=\"1\" class=\"dataframe\">\n",
       "  <thead>\n",
       "    <tr style=\"text-align: right;\">\n",
       "      <th></th>\n",
       "      <th>A</th>\n",
       "      <th>B</th>\n",
       "      <th>C</th>\n",
       "      <th>D</th>\n",
       "    </tr>\n",
       "  </thead>\n",
       "  <tbody>\n",
       "    <tr>\n",
       "      <th>2020-03-06</th>\n",
       "      <td>-2.177726</td>\n",
       "      <td>1.157962</td>\n",
       "      <td>0.580399</td>\n",
       "      <td>0.085890</td>\n",
       "    </tr>\n",
       "    <tr>\n",
       "      <th>2020-03-07</th>\n",
       "      <td>1.325715</td>\n",
       "      <td>-1.314120</td>\n",
       "      <td>0.859109</td>\n",
       "      <td>-0.545577</td>\n",
       "    </tr>\n",
       "    <tr>\n",
       "      <th>2020-03-08</th>\n",
       "      <td>1.005556</td>\n",
       "      <td>0.126856</td>\n",
       "      <td>1.538642</td>\n",
       "      <td>0.076482</td>\n",
       "    </tr>\n",
       "    <tr>\n",
       "      <th>2020-03-09</th>\n",
       "      <td>0.106810</td>\n",
       "      <td>0.411828</td>\n",
       "      <td>0.027179</td>\n",
       "      <td>-0.352540</td>\n",
       "    </tr>\n",
       "    <tr>\n",
       "      <th>2020-03-10</th>\n",
       "      <td>-1.777035</td>\n",
       "      <td>-0.249815</td>\n",
       "      <td>1.713648</td>\n",
       "      <td>1.390307</td>\n",
       "    </tr>\n",
       "  </tbody>\n",
       "</table>\n",
       "</div>"
      ],
      "text/plain": [
       "                   A         B         C         D\n",
       "2020-03-06 -2.177726  1.157962  0.580399  0.085890\n",
       "2020-03-07  1.325715 -1.314120  0.859109 -0.545577\n",
       "2020-03-08  1.005556  0.126856  1.538642  0.076482\n",
       "2020-03-09  0.106810  0.411828  0.027179 -0.352540\n",
       "2020-03-10 -1.777035 -0.249815  1.713648  1.390307"
      ]
     },
     "execution_count": 63,
     "metadata": {},
     "output_type": "execute_result"
    }
   ],
   "source": [
    "df=pd.DataFrame(np.random.randn(10,4), index=d,columns=['A','B','C','D'])\n",
    "df.tail()"
   ]
  },
  {
   "cell_type": "code",
   "execution_count": 64,
   "metadata": {},
   "outputs": [
    {
     "data": {
      "text/plain": [
       "DatetimeIndex(['2020-03-01', '2020-03-02', '2020-03-03', '2020-03-04',\n",
       "               '2020-03-05', '2020-03-06', '2020-03-07', '2020-03-08',\n",
       "               '2020-03-09', '2020-03-10'],\n",
       "              dtype='datetime64[ns]', freq='D')"
      ]
     },
     "execution_count": 64,
     "metadata": {},
     "output_type": "execute_result"
    }
   ],
   "source": [
    "df=pd.DataFrame(np.random.randn(10,4), index=d,columns=['A','B','C','D'])\n",
    "df.index"
   ]
  },
  {
   "cell_type": "code",
   "execution_count": 66,
   "metadata": {},
   "outputs": [
    {
     "data": {
      "text/plain": [
       "Index(['A', 'B', 'C', 'D'], dtype='object')"
      ]
     },
     "execution_count": 66,
     "metadata": {},
     "output_type": "execute_result"
    }
   ],
   "source": [
    "df=pd.DataFrame(np.random.randn(10,4), index=d,columns=['A','B','C','D'])\n",
    "df.columns"
   ]
  },
  {
   "cell_type": "code",
   "execution_count": 67,
   "metadata": {},
   "outputs": [
    {
     "data": {
      "text/plain": [
       "array([[-0.42391545, -1.55323497,  0.13831525, -0.68318995],\n",
       "       [-1.24896465, -0.05806306, -0.2703561 , -1.37738766],\n",
       "       [ 0.24593294,  1.16596126, -1.20826702, -1.74876181],\n",
       "       [ 2.66830676, -0.5766815 , -0.70025688, -0.650037  ],\n",
       "       [ 0.09750495, -0.84395738, -0.94523953, -0.75911098],\n",
       "       [-0.21887122,  0.25975838,  0.47656279, -0.70644285],\n",
       "       [-0.63060067,  0.64452739, -0.24542864, -0.14145319],\n",
       "       [-1.35036736, -1.05683085,  0.89989657,  0.32729824],\n",
       "       [ 0.61163744, -1.20090414,  1.99426875, -1.57584145],\n",
       "       [ 0.52845804,  0.74797911, -0.00730781, -0.64402925]])"
      ]
     },
     "execution_count": 67,
     "metadata": {},
     "output_type": "execute_result"
    }
   ],
   "source": [
    "df=pd.DataFrame(np.random.randn(10,4), index=d,columns=['A','B','C','D'])\n",
    "df.to_numpy()"
   ]
  },
  {
   "cell_type": "code",
   "execution_count": 68,
   "metadata": {},
   "outputs": [
    {
     "data": {
      "text/html": [
       "<div>\n",
       "<style scoped>\n",
       "    .dataframe tbody tr th:only-of-type {\n",
       "        vertical-align: middle;\n",
       "    }\n",
       "\n",
       "    .dataframe tbody tr th {\n",
       "        vertical-align: top;\n",
       "    }\n",
       "\n",
       "    .dataframe thead th {\n",
       "        text-align: right;\n",
       "    }\n",
       "</style>\n",
       "<table border=\"1\" class=\"dataframe\">\n",
       "  <thead>\n",
       "    <tr style=\"text-align: right;\">\n",
       "      <th></th>\n",
       "      <th>A</th>\n",
       "      <th>B</th>\n",
       "      <th>C</th>\n",
       "      <th>D</th>\n",
       "    </tr>\n",
       "  </thead>\n",
       "  <tbody>\n",
       "    <tr>\n",
       "      <th>count</th>\n",
       "      <td>10.000000</td>\n",
       "      <td>10.000000</td>\n",
       "      <td>10.000000</td>\n",
       "      <td>10.000000</td>\n",
       "    </tr>\n",
       "    <tr>\n",
       "      <th>mean</th>\n",
       "      <td>0.454758</td>\n",
       "      <td>0.246479</td>\n",
       "      <td>-0.371441</td>\n",
       "      <td>-0.195643</td>\n",
       "    </tr>\n",
       "    <tr>\n",
       "      <th>std</th>\n",
       "      <td>1.035254</td>\n",
       "      <td>0.959943</td>\n",
       "      <td>1.003174</td>\n",
       "      <td>1.220185</td>\n",
       "    </tr>\n",
       "    <tr>\n",
       "      <th>min</th>\n",
       "      <td>-0.827061</td>\n",
       "      <td>-1.241153</td>\n",
       "      <td>-1.886712</td>\n",
       "      <td>-2.362850</td>\n",
       "    </tr>\n",
       "    <tr>\n",
       "      <th>25%</th>\n",
       "      <td>-0.333487</td>\n",
       "      <td>-0.445742</td>\n",
       "      <td>-0.816457</td>\n",
       "      <td>-0.793686</td>\n",
       "    </tr>\n",
       "    <tr>\n",
       "      <th>50%</th>\n",
       "      <td>0.198816</td>\n",
       "      <td>0.236264</td>\n",
       "      <td>-0.215873</td>\n",
       "      <td>-0.415211</td>\n",
       "    </tr>\n",
       "    <tr>\n",
       "      <th>75%</th>\n",
       "      <td>0.858920</td>\n",
       "      <td>0.853080</td>\n",
       "      <td>0.159930</td>\n",
       "      <td>0.927249</td>\n",
       "    </tr>\n",
       "    <tr>\n",
       "      <th>max</th>\n",
       "      <td>2.315876</td>\n",
       "      <td>1.705444</td>\n",
       "      <td>1.343983</td>\n",
       "      <td>1.327760</td>\n",
       "    </tr>\n",
       "  </tbody>\n",
       "</table>\n",
       "</div>"
      ],
      "text/plain": [
       "               A          B          C          D\n",
       "count  10.000000  10.000000  10.000000  10.000000\n",
       "mean    0.454758   0.246479  -0.371441  -0.195643\n",
       "std     1.035254   0.959943   1.003174   1.220185\n",
       "min    -0.827061  -1.241153  -1.886712  -2.362850\n",
       "25%    -0.333487  -0.445742  -0.816457  -0.793686\n",
       "50%     0.198816   0.236264  -0.215873  -0.415211\n",
       "75%     0.858920   0.853080   0.159930   0.927249\n",
       "max     2.315876   1.705444   1.343983   1.327760"
      ]
     },
     "execution_count": 68,
     "metadata": {},
     "output_type": "execute_result"
    }
   ],
   "source": [
    "df=pd.DataFrame(np.random.randn(10,4), index=d,columns=['A','B','C','D'])\n",
    "df.describe()"
   ]
  },
  {
   "cell_type": "code",
   "execution_count": 69,
   "metadata": {},
   "outputs": [
    {
     "data": {
      "text/html": [
       "<div>\n",
       "<style scoped>\n",
       "    .dataframe tbody tr th:only-of-type {\n",
       "        vertical-align: middle;\n",
       "    }\n",
       "\n",
       "    .dataframe tbody tr th {\n",
       "        vertical-align: top;\n",
       "    }\n",
       "\n",
       "    .dataframe thead th {\n",
       "        text-align: right;\n",
       "    }\n",
       "</style>\n",
       "<table border=\"1\" class=\"dataframe\">\n",
       "  <thead>\n",
       "    <tr style=\"text-align: right;\">\n",
       "      <th></th>\n",
       "      <th>D</th>\n",
       "      <th>C</th>\n",
       "      <th>B</th>\n",
       "      <th>A</th>\n",
       "    </tr>\n",
       "  </thead>\n",
       "  <tbody>\n",
       "    <tr>\n",
       "      <th>2020-03-01</th>\n",
       "      <td>-0.828900</td>\n",
       "      <td>1.766831</td>\n",
       "      <td>-1.432717</td>\n",
       "      <td>1.030948</td>\n",
       "    </tr>\n",
       "    <tr>\n",
       "      <th>2020-03-02</th>\n",
       "      <td>0.269410</td>\n",
       "      <td>-0.149240</td>\n",
       "      <td>0.750789</td>\n",
       "      <td>0.703522</td>\n",
       "    </tr>\n",
       "    <tr>\n",
       "      <th>2020-03-03</th>\n",
       "      <td>0.000304</td>\n",
       "      <td>0.638147</td>\n",
       "      <td>0.312117</td>\n",
       "      <td>-0.915804</td>\n",
       "    </tr>\n",
       "    <tr>\n",
       "      <th>2020-03-04</th>\n",
       "      <td>1.664016</td>\n",
       "      <td>1.171566</td>\n",
       "      <td>0.107123</td>\n",
       "      <td>-0.836191</td>\n",
       "    </tr>\n",
       "    <tr>\n",
       "      <th>2020-03-05</th>\n",
       "      <td>0.658665</td>\n",
       "      <td>-0.795788</td>\n",
       "      <td>-0.101324</td>\n",
       "      <td>0.720434</td>\n",
       "    </tr>\n",
       "    <tr>\n",
       "      <th>2020-03-06</th>\n",
       "      <td>1.198454</td>\n",
       "      <td>-0.020567</td>\n",
       "      <td>-0.061839</td>\n",
       "      <td>-1.754495</td>\n",
       "    </tr>\n",
       "    <tr>\n",
       "      <th>2020-03-07</th>\n",
       "      <td>-0.562613</td>\n",
       "      <td>-0.148147</td>\n",
       "      <td>0.779483</td>\n",
       "      <td>-0.006509</td>\n",
       "    </tr>\n",
       "    <tr>\n",
       "      <th>2020-03-08</th>\n",
       "      <td>-0.682122</td>\n",
       "      <td>-0.456308</td>\n",
       "      <td>-0.930965</td>\n",
       "      <td>-0.678645</td>\n",
       "    </tr>\n",
       "    <tr>\n",
       "      <th>2020-03-09</th>\n",
       "      <td>-0.968842</td>\n",
       "      <td>-0.549364</td>\n",
       "      <td>0.619262</td>\n",
       "      <td>1.649158</td>\n",
       "    </tr>\n",
       "    <tr>\n",
       "      <th>2020-03-10</th>\n",
       "      <td>-0.925306</td>\n",
       "      <td>-0.320347</td>\n",
       "      <td>0.802182</td>\n",
       "      <td>-0.167551</td>\n",
       "    </tr>\n",
       "  </tbody>\n",
       "</table>\n",
       "</div>"
      ],
      "text/plain": [
       "                   D         C         B         A\n",
       "2020-03-01 -0.828900  1.766831 -1.432717  1.030948\n",
       "2020-03-02  0.269410 -0.149240  0.750789  0.703522\n",
       "2020-03-03  0.000304  0.638147  0.312117 -0.915804\n",
       "2020-03-04  1.664016  1.171566  0.107123 -0.836191\n",
       "2020-03-05  0.658665 -0.795788 -0.101324  0.720434\n",
       "2020-03-06  1.198454 -0.020567 -0.061839 -1.754495\n",
       "2020-03-07 -0.562613 -0.148147  0.779483 -0.006509\n",
       "2020-03-08 -0.682122 -0.456308 -0.930965 -0.678645\n",
       "2020-03-09 -0.968842 -0.549364  0.619262  1.649158\n",
       "2020-03-10 -0.925306 -0.320347  0.802182 -0.167551"
      ]
     },
     "execution_count": 69,
     "metadata": {},
     "output_type": "execute_result"
    }
   ],
   "source": [
    "df=pd.DataFrame(np.random.randn(10,4), index=d,columns=['A','B','C','D'])\n",
    "df.sort_index(axis=1, ascending=False)"
   ]
  },
  {
   "cell_type": "code",
   "execution_count": 70,
   "metadata": {},
   "outputs": [
    {
     "data": {
      "text/html": [
       "<div>\n",
       "<style scoped>\n",
       "    .dataframe tbody tr th:only-of-type {\n",
       "        vertical-align: middle;\n",
       "    }\n",
       "\n",
       "    .dataframe tbody tr th {\n",
       "        vertical-align: top;\n",
       "    }\n",
       "\n",
       "    .dataframe thead th {\n",
       "        text-align: right;\n",
       "    }\n",
       "</style>\n",
       "<table border=\"1\" class=\"dataframe\">\n",
       "  <thead>\n",
       "    <tr style=\"text-align: right;\">\n",
       "      <th></th>\n",
       "      <th>A</th>\n",
       "      <th>B</th>\n",
       "      <th>C</th>\n",
       "      <th>D</th>\n",
       "    </tr>\n",
       "  </thead>\n",
       "  <tbody>\n",
       "    <tr>\n",
       "      <th>2020-03-03</th>\n",
       "      <td>0.197558</td>\n",
       "      <td>0.646148</td>\n",
       "      <td>-1.496294</td>\n",
       "      <td>-0.961796</td>\n",
       "    </tr>\n",
       "    <tr>\n",
       "      <th>2020-03-02</th>\n",
       "      <td>-0.351018</td>\n",
       "      <td>-0.140823</td>\n",
       "      <td>-1.427352</td>\n",
       "      <td>-1.483885</td>\n",
       "    </tr>\n",
       "    <tr>\n",
       "      <th>2020-03-10</th>\n",
       "      <td>-0.046822</td>\n",
       "      <td>-1.288371</td>\n",
       "      <td>-0.808102</td>\n",
       "      <td>0.019492</td>\n",
       "    </tr>\n",
       "    <tr>\n",
       "      <th>2020-03-09</th>\n",
       "      <td>-0.470002</td>\n",
       "      <td>0.052268</td>\n",
       "      <td>-0.792543</td>\n",
       "      <td>0.991030</td>\n",
       "    </tr>\n",
       "    <tr>\n",
       "      <th>2020-03-08</th>\n",
       "      <td>-1.976374</td>\n",
       "      <td>-0.059216</td>\n",
       "      <td>-0.660886</td>\n",
       "      <td>-1.074877</td>\n",
       "    </tr>\n",
       "    <tr>\n",
       "      <th>2020-03-01</th>\n",
       "      <td>-1.134936</td>\n",
       "      <td>-1.009616</td>\n",
       "      <td>-0.247273</td>\n",
       "      <td>0.650622</td>\n",
       "    </tr>\n",
       "    <tr>\n",
       "      <th>2020-03-04</th>\n",
       "      <td>-0.382868</td>\n",
       "      <td>-1.017220</td>\n",
       "      <td>1.152069</td>\n",
       "      <td>0.070222</td>\n",
       "    </tr>\n",
       "    <tr>\n",
       "      <th>2020-03-06</th>\n",
       "      <td>0.315375</td>\n",
       "      <td>0.450536</td>\n",
       "      <td>1.911362</td>\n",
       "      <td>-0.627627</td>\n",
       "    </tr>\n",
       "    <tr>\n",
       "      <th>2020-03-07</th>\n",
       "      <td>0.733465</td>\n",
       "      <td>0.487393</td>\n",
       "      <td>2.134575</td>\n",
       "      <td>0.516894</td>\n",
       "    </tr>\n",
       "    <tr>\n",
       "      <th>2020-03-05</th>\n",
       "      <td>0.264598</td>\n",
       "      <td>0.860861</td>\n",
       "      <td>2.260238</td>\n",
       "      <td>0.002101</td>\n",
       "    </tr>\n",
       "  </tbody>\n",
       "</table>\n",
       "</div>"
      ],
      "text/plain": [
       "                   A         B         C         D\n",
       "2020-03-03  0.197558  0.646148 -1.496294 -0.961796\n",
       "2020-03-02 -0.351018 -0.140823 -1.427352 -1.483885\n",
       "2020-03-10 -0.046822 -1.288371 -0.808102  0.019492\n",
       "2020-03-09 -0.470002  0.052268 -0.792543  0.991030\n",
       "2020-03-08 -1.976374 -0.059216 -0.660886 -1.074877\n",
       "2020-03-01 -1.134936 -1.009616 -0.247273  0.650622\n",
       "2020-03-04 -0.382868 -1.017220  1.152069  0.070222\n",
       "2020-03-06  0.315375  0.450536  1.911362 -0.627627\n",
       "2020-03-07  0.733465  0.487393  2.134575  0.516894\n",
       "2020-03-05  0.264598  0.860861  2.260238  0.002101"
      ]
     },
     "execution_count": 70,
     "metadata": {},
     "output_type": "execute_result"
    }
   ],
   "source": [
    "df=pd.DataFrame(np.random.randn(10,4), index=d,columns=['A','B','C','D'])\n",
    "df.sort_values(by='C')"
   ]
  },
  {
   "cell_type": "code",
   "execution_count": 71,
   "metadata": {},
   "outputs": [
    {
     "data": {
      "text/plain": [
       "2020-03-01    2.171279\n",
       "2020-03-02    0.531437\n",
       "2020-03-03    2.301537\n",
       "2020-03-04    1.648414\n",
       "2020-03-05    0.361273\n",
       "2020-03-06   -1.015733\n",
       "2020-03-07   -0.055915\n",
       "2020-03-08   -1.129545\n",
       "2020-03-09    0.285701\n",
       "2020-03-10   -0.334505\n",
       "Freq: D, Name: C, dtype: float64"
      ]
     },
     "execution_count": 71,
     "metadata": {},
     "output_type": "execute_result"
    }
   ],
   "source": [
    "#To select single column form the dataframe.\n",
    "df=pd.DataFrame(np.random.randn(10,4), index=d,columns=['A','B','C','D'])\n",
    "df['C']"
   ]
  },
  {
   "cell_type": "code",
   "execution_count": 72,
   "metadata": {},
   "outputs": [
    {
     "data": {
      "text/html": [
       "<div>\n",
       "<style scoped>\n",
       "    .dataframe tbody tr th:only-of-type {\n",
       "        vertical-align: middle;\n",
       "    }\n",
       "\n",
       "    .dataframe tbody tr th {\n",
       "        vertical-align: top;\n",
       "    }\n",
       "\n",
       "    .dataframe thead th {\n",
       "        text-align: right;\n",
       "    }\n",
       "</style>\n",
       "<table border=\"1\" class=\"dataframe\">\n",
       "  <thead>\n",
       "    <tr style=\"text-align: right;\">\n",
       "      <th></th>\n",
       "      <th>A</th>\n",
       "      <th>B</th>\n",
       "      <th>C</th>\n",
       "      <th>D</th>\n",
       "    </tr>\n",
       "  </thead>\n",
       "  <tbody>\n",
       "    <tr>\n",
       "      <th>2020-03-01</th>\n",
       "      <td>-0.200249</td>\n",
       "      <td>1.142536</td>\n",
       "      <td>1.447762</td>\n",
       "      <td>-1.873614</td>\n",
       "    </tr>\n",
       "    <tr>\n",
       "      <th>2020-03-02</th>\n",
       "      <td>0.104538</td>\n",
       "      <td>0.063723</td>\n",
       "      <td>-0.572742</td>\n",
       "      <td>0.149802</td>\n",
       "    </tr>\n",
       "    <tr>\n",
       "      <th>2020-03-03</th>\n",
       "      <td>-0.056373</td>\n",
       "      <td>-0.286896</td>\n",
       "      <td>1.080238</td>\n",
       "      <td>-0.724868</td>\n",
       "    </tr>\n",
       "  </tbody>\n",
       "</table>\n",
       "</div>"
      ],
      "text/plain": [
       "                   A         B         C         D\n",
       "2020-03-01 -0.200249  1.142536  1.447762 -1.873614\n",
       "2020-03-02  0.104538  0.063723 -0.572742  0.149802\n",
       "2020-03-03 -0.056373 -0.286896  1.080238 -0.724868"
      ]
     },
     "execution_count": 72,
     "metadata": {},
     "output_type": "execute_result"
    }
   ],
   "source": [
    "#To Slice the row in DataFrame\n",
    "df=pd.DataFrame(np.random.randn(10,4), index=d,columns=['A','B','C','D'])\n",
    "df[0:3]"
   ]
  },
  {
   "cell_type": "code",
   "execution_count": 73,
   "metadata": {},
   "outputs": [
    {
     "data": {
      "text/plain": [
       "A   -1.056279\n",
       "B    1.132668\n",
       "C    2.119447\n",
       "D    1.022220\n",
       "Name: 2020-03-01 00:00:00, dtype: float64"
      ]
     },
     "execution_count": 73,
     "metadata": {},
     "output_type": "execute_result"
    }
   ],
   "source": [
    "#To select data using the Labels\n",
    "df=pd.DataFrame(np.random.randn(10,4), index=d,columns=['A','B','C','D'])\n",
    "df.loc[d[0]]"
   ]
  },
  {
   "cell_type": "code",
   "execution_count": 75,
   "metadata": {},
   "outputs": [
    {
     "data": {
      "text/html": [
       "<div>\n",
       "<style scoped>\n",
       "    .dataframe tbody tr th:only-of-type {\n",
       "        vertical-align: middle;\n",
       "    }\n",
       "\n",
       "    .dataframe tbody tr th {\n",
       "        vertical-align: top;\n",
       "    }\n",
       "\n",
       "    .dataframe thead th {\n",
       "        text-align: right;\n",
       "    }\n",
       "</style>\n",
       "<table border=\"1\" class=\"dataframe\">\n",
       "  <thead>\n",
       "    <tr style=\"text-align: right;\">\n",
       "      <th></th>\n",
       "      <th>A</th>\n",
       "      <th>C</th>\n",
       "    </tr>\n",
       "  </thead>\n",
       "  <tbody>\n",
       "    <tr>\n",
       "      <th>2020-03-01</th>\n",
       "      <td>1.203924</td>\n",
       "      <td>2.353981</td>\n",
       "    </tr>\n",
       "    <tr>\n",
       "      <th>2020-03-02</th>\n",
       "      <td>-0.104811</td>\n",
       "      <td>-1.195254</td>\n",
       "    </tr>\n",
       "    <tr>\n",
       "      <th>2020-03-03</th>\n",
       "      <td>0.543449</td>\n",
       "      <td>0.828269</td>\n",
       "    </tr>\n",
       "    <tr>\n",
       "      <th>2020-03-04</th>\n",
       "      <td>0.720884</td>\n",
       "      <td>-0.352501</td>\n",
       "    </tr>\n",
       "    <tr>\n",
       "      <th>2020-03-05</th>\n",
       "      <td>0.498739</td>\n",
       "      <td>0.348999</td>\n",
       "    </tr>\n",
       "    <tr>\n",
       "      <th>2020-03-06</th>\n",
       "      <td>0.882108</td>\n",
       "      <td>-1.320316</td>\n",
       "    </tr>\n",
       "    <tr>\n",
       "      <th>2020-03-07</th>\n",
       "      <td>1.297783</td>\n",
       "      <td>1.074713</td>\n",
       "    </tr>\n",
       "    <tr>\n",
       "      <th>2020-03-08</th>\n",
       "      <td>0.489109</td>\n",
       "      <td>0.682515</td>\n",
       "    </tr>\n",
       "    <tr>\n",
       "      <th>2020-03-09</th>\n",
       "      <td>0.348504</td>\n",
       "      <td>-0.566031</td>\n",
       "    </tr>\n",
       "    <tr>\n",
       "      <th>2020-03-10</th>\n",
       "      <td>-0.290444</td>\n",
       "      <td>1.911834</td>\n",
       "    </tr>\n",
       "  </tbody>\n",
       "</table>\n",
       "</div>"
      ],
      "text/plain": [
       "                   A         C\n",
       "2020-03-01  1.203924  2.353981\n",
       "2020-03-02 -0.104811 -1.195254\n",
       "2020-03-03  0.543449  0.828269\n",
       "2020-03-04  0.720884 -0.352501\n",
       "2020-03-05  0.498739  0.348999\n",
       "2020-03-06  0.882108 -1.320316\n",
       "2020-03-07  1.297783  1.074713\n",
       "2020-03-08  0.489109  0.682515\n",
       "2020-03-09  0.348504 -0.566031\n",
       "2020-03-10 -0.290444  1.911834"
      ]
     },
     "execution_count": 75,
     "metadata": {},
     "output_type": "execute_result"
    }
   ],
   "source": [
    "#Selecting data on the Multiaxis by label\n",
    "df=pd.DataFrame(np.random.randn(10,4), index=d,columns=['A','B','C','D'])\n",
    "df.loc[:,['A','C']]"
   ]
  },
  {
   "cell_type": "code",
   "execution_count": 78,
   "metadata": {},
   "outputs": [
    {
     "data": {
      "text/html": [
       "<div>\n",
       "<style scoped>\n",
       "    .dataframe tbody tr th:only-of-type {\n",
       "        vertical-align: middle;\n",
       "    }\n",
       "\n",
       "    .dataframe tbody tr th {\n",
       "        vertical-align: top;\n",
       "    }\n",
       "\n",
       "    .dataframe thead th {\n",
       "        text-align: right;\n",
       "    }\n",
       "</style>\n",
       "<table border=\"1\" class=\"dataframe\">\n",
       "  <thead>\n",
       "    <tr style=\"text-align: right;\">\n",
       "      <th></th>\n",
       "      <th>D</th>\n",
       "      <th>C</th>\n",
       "    </tr>\n",
       "  </thead>\n",
       "  <tbody>\n",
       "    <tr>\n",
       "      <th>2020-03-01</th>\n",
       "      <td>-0.186843</td>\n",
       "      <td>-0.238003</td>\n",
       "    </tr>\n",
       "    <tr>\n",
       "      <th>2020-03-02</th>\n",
       "      <td>0.579472</td>\n",
       "      <td>-0.413993</td>\n",
       "    </tr>\n",
       "    <tr>\n",
       "      <th>2020-03-03</th>\n",
       "      <td>-0.856258</td>\n",
       "      <td>-0.108390</td>\n",
       "    </tr>\n",
       "    <tr>\n",
       "      <th>2020-03-04</th>\n",
       "      <td>1.764975</td>\n",
       "      <td>-2.022703</td>\n",
       "    </tr>\n",
       "    <tr>\n",
       "      <th>2020-03-05</th>\n",
       "      <td>0.772736</td>\n",
       "      <td>0.341376</td>\n",
       "    </tr>\n",
       "    <tr>\n",
       "      <th>2020-03-06</th>\n",
       "      <td>0.569742</td>\n",
       "      <td>0.493600</td>\n",
       "    </tr>\n",
       "    <tr>\n",
       "      <th>2020-03-07</th>\n",
       "      <td>-0.894087</td>\n",
       "      <td>0.809720</td>\n",
       "    </tr>\n",
       "    <tr>\n",
       "      <th>2020-03-08</th>\n",
       "      <td>1.148185</td>\n",
       "      <td>0.958368</td>\n",
       "    </tr>\n",
       "    <tr>\n",
       "      <th>2020-03-09</th>\n",
       "      <td>0.392789</td>\n",
       "      <td>-0.834718</td>\n",
       "    </tr>\n",
       "    <tr>\n",
       "      <th>2020-03-10</th>\n",
       "      <td>0.682949</td>\n",
       "      <td>0.865976</td>\n",
       "    </tr>\n",
       "  </tbody>\n",
       "</table>\n",
       "</div>"
      ],
      "text/plain": [
       "                   D         C\n",
       "2020-03-01 -0.186843 -0.238003\n",
       "2020-03-02  0.579472 -0.413993\n",
       "2020-03-03 -0.856258 -0.108390\n",
       "2020-03-04  1.764975 -2.022703\n",
       "2020-03-05  0.772736  0.341376\n",
       "2020-03-06  0.569742  0.493600\n",
       "2020-03-07 -0.894087  0.809720\n",
       "2020-03-08  1.148185  0.958368\n",
       "2020-03-09  0.392789 -0.834718\n",
       "2020-03-10  0.682949  0.865976"
      ]
     },
     "execution_count": 78,
     "metadata": {},
     "output_type": "execute_result"
    }
   ],
   "source": [
    "df=pd.DataFrame(np.random.randn(10,4), index=d,columns=['A','B','C','D'])\n",
    "df.loc[:,['D', 'C']]"
   ]
  },
  {
   "cell_type": "code",
   "execution_count": 79,
   "metadata": {},
   "outputs": [
    {
     "data": {
      "text/plain": [
       "np.float64(0.6569263202617202)"
      ]
     },
     "execution_count": 79,
     "metadata": {},
     "output_type": "execute_result"
    }
   ],
   "source": [
    "df=pd.DataFrame(np.random.randn(10,4), index=d,columns=['A','B','C','D'])\n",
    "df.at[d[0], 'C']"
   ]
  }
 ],
 "metadata": {
  "kernelspec": {
   "display_name": "Python 3",
   "language": "python",
   "name": "python3"
  },
  "language_info": {
   "codemirror_mode": {
    "name": "ipython",
    "version": 3
   },
   "file_extension": ".py",
   "mimetype": "text/x-python",
   "name": "python",
   "nbconvert_exporter": "python",
   "pygments_lexer": "ipython3",
   "version": "3.12.4"
  }
 },
 "nbformat": 4,
 "nbformat_minor": 2
}
